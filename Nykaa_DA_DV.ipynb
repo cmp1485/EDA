{
 "cells": [
  {
   "cell_type": "markdown",
   "id": "a0c7ba93",
   "metadata": {},
   "source": [
    "# Nyka_Health_Supplements_Dataset"
   ]
  },
  {
   "cell_type": "markdown",
   "id": "d5cc643a",
   "metadata": {},
   "source": [
    "## Introduction"
   ]
  },
  {
   "cell_type": "markdown",
   "id": "3744fb6b",
   "metadata": {},
   "source": [
    "In contemporary society, the prevalence of unhealthy dietary choices has reached alarming proportions, The COVID-19 pandemic has made things worse by disrupting our normal routines. This has shown us how crucial it is to stay healthy and find good ways to deal with the downsides of sedentary lifestyles and poor nutritional habits.The dataset we are working with contains a range of features related to health care products, and by analyzing this data, we aim to create a valuable tool for individuals."
   ]
  },
  {
   "cell_type": "markdown",
   "id": "3e5977ff",
   "metadata": {},
   "source": [
    "* Our primary goal is to develop a diagnostic model that can accurately analysis between different categories such as Immunity Booster, Hormonal Balance, Stronger Bones, Restful sleep,Energy Boosters using the provided attributes, Product Titles, Ratings, Bestsellers,Gender,Formulations,Original Price, Discounted Price."
   ]
  },
  {
   "cell_type": "markdown",
   "id": "c6e93257",
   "metadata": {},
   "source": [
    "* Attribute Information"
   ]
  },
  {
   "cell_type": "markdown",
   "id": "b7ae3bd4",
   "metadata": {},
   "source": [
    "1. Product Title\n",
    "2. Original Price.\n",
    "3. Discounted Price.\n",
    "4. Additional_Tags.\n",
    "5. Ratings.\n",
    "6. Gender.\n",
    "7. Category.\n",
    "8. Formulation"
   ]
  },
  {
   "cell_type": "markdown",
   "id": "54a1d08e",
   "metadata": {},
   "source": [
    "## Problem Statement"
   ]
  },
  {
   "cell_type": "markdown",
   "id": "fff253dc",
   "metadata": {},
   "source": [
    "Nutritional Deficiency, Unhealthy habits, and the effects of post-COVID-19 vaccines are the major concerns that every individual suffers from. A comprehensive understanding of these common responses is necessary to develop targeted interventions and support systems that enhance the overall immune system and public health resilience"
   ]
  },
  {
   "cell_type": "markdown",
   "id": "0e0b2a93",
   "metadata": {},
   "source": [
    "## Nyka data cleaning and data analysis"
   ]
  },
  {
   "cell_type": "code",
   "execution_count": 1,
   "id": "048e234f",
   "metadata": {},
   "outputs": [],
   "source": [
    "import numpy as np\n",
    "import pandas as pd\n",
    "import matplotlib.pyplot as plt\n",
    "import seaborn as sns\n",
    "import re"
   ]
  },
  {
   "cell_type": "code",
   "execution_count": 4,
   "id": "cd0a61ab",
   "metadata": {},
   "outputs": [],
   "source": [
    "ndf = pd.read_csv(r\"C:\\Users\\91852\\Data Science\\Data analysis\\EDA Project\\NykaaHealthSupp.csv\")"
   ]
  },
  {
   "cell_type": "code",
   "execution_count": 5,
   "id": "0aea3630",
   "metadata": {},
   "outputs": [
    {
     "data": {
      "text/html": [
       "<div>\n",
       "<style scoped>\n",
       "    .dataframe tbody tr th:only-of-type {\n",
       "        vertical-align: middle;\n",
       "    }\n",
       "\n",
       "    .dataframe tbody tr th {\n",
       "        vertical-align: top;\n",
       "    }\n",
       "\n",
       "    .dataframe thead th {\n",
       "        text-align: right;\n",
       "    }\n",
       "</style>\n",
       "<table border=\"1\" class=\"dataframe\">\n",
       "  <thead>\n",
       "    <tr style=\"text-align: right;\">\n",
       "      <th></th>\n",
       "      <th>Unnamed: 0</th>\n",
       "      <th>Product_Title</th>\n",
       "      <th>Original Price</th>\n",
       "      <th>Discounted Price</th>\n",
       "      <th>Additional_Tags</th>\n",
       "      <th>Ratings</th>\n",
       "      <th>Number_of_ratings</th>\n",
       "      <th>Gender</th>\n",
       "      <th>Category</th>\n",
       "      <th>Formulation</th>\n",
       "    </tr>\n",
       "  </thead>\n",
       "  <tbody>\n",
       "    <tr>\n",
       "      <th>0</th>\n",
       "      <td>0</td>\n",
       "      <td>Wellbeing Nutrition Daily Greens Wholefood Mul...</td>\n",
       "      <td>MRP:₹1180</td>\n",
       "      <td>₹590</td>\n",
       "      <td>FEATURED &amp; BESTSELLER</td>\n",
       "      <td>5.0</td>\n",
       "      <td>( 146 )</td>\n",
       "      <td>Unisex</td>\n",
       "      <td>Energy-boosters</td>\n",
       "      <td>Others</td>\n",
       "    </tr>\n",
       "    <tr>\n",
       "      <th>1</th>\n",
       "      <td>1</td>\n",
       "      <td>HealthKart HK Vitals Multivitamin for Women, B...</td>\n",
       "      <td>MRP:₹529</td>\n",
       "      <td>₹379</td>\n",
       "      <td>FEATURED</td>\n",
       "      <td>4.0</td>\n",
       "      <td>( 205 )</td>\n",
       "      <td>Others</td>\n",
       "      <td>Energy-boosters</td>\n",
       "      <td>Others</td>\n",
       "    </tr>\n",
       "    <tr>\n",
       "      <th>2</th>\n",
       "      <td>2</td>\n",
       "      <td>GNC Women's One Daily Multivitamin For Women</td>\n",
       "      <td>MRP:₹1449</td>\n",
       "      <td>₹899</td>\n",
       "      <td>FEATURED &amp; BESTSELLER</td>\n",
       "      <td>5.0</td>\n",
       "      <td>( 68 )</td>\n",
       "      <td>Female</td>\n",
       "      <td>Energy-boosters</td>\n",
       "      <td>Others</td>\n",
       "    </tr>\n",
       "    <tr>\n",
       "      <th>3</th>\n",
       "      <td>3</td>\n",
       "      <td>Oziva Daily Women's Multivitamin Tablets For E...</td>\n",
       "      <td>MRP:₹499</td>\n",
       "      <td>₹299</td>\n",
       "      <td>FEATURED &amp; BESTSELLER</td>\n",
       "      <td>4.0</td>\n",
       "      <td>( 97 )</td>\n",
       "      <td>Female</td>\n",
       "      <td>Energy-boosters</td>\n",
       "      <td>Others</td>\n",
       "    </tr>\n",
       "    <tr>\n",
       "      <th>4</th>\n",
       "      <td>4</td>\n",
       "      <td>Carbamide Forte Novosules Woman+ Multivitamin ...</td>\n",
       "      <td>MRP:₹770</td>\n",
       "      <td>₹499</td>\n",
       "      <td>FEATURED</td>\n",
       "      <td>4.0</td>\n",
       "      <td>( 138 )</td>\n",
       "      <td>Female</td>\n",
       "      <td>Energy-boosters</td>\n",
       "      <td>Others</td>\n",
       "    </tr>\n",
       "    <tr>\n",
       "      <th>...</th>\n",
       "      <td>...</td>\n",
       "      <td>...</td>\n",
       "      <td>...</td>\n",
       "      <td>...</td>\n",
       "      <td>...</td>\n",
       "      <td>...</td>\n",
       "      <td>...</td>\n",
       "      <td>...</td>\n",
       "      <td>...</td>\n",
       "      <td>...</td>\n",
       "    </tr>\n",
       "    <tr>\n",
       "      <th>1299</th>\n",
       "      <td>1299</td>\n",
       "      <td>Healthvit Sleepneed Melatonin 3 mg Advanced Sl...</td>\n",
       "      <td>₹500</td>\n",
       "      <td>₹500</td>\n",
       "      <td>NaN</td>\n",
       "      <td>1.0</td>\n",
       "      <td>( 1 )</td>\n",
       "      <td>Unisex</td>\n",
       "      <td>Restful Sleep</td>\n",
       "      <td>Tablet</td>\n",
       "    </tr>\n",
       "    <tr>\n",
       "      <th>1300</th>\n",
       "      <td>1300</td>\n",
       "      <td>Healthvit Sleepneed Melatonin 10 mg Advanced S...</td>\n",
       "      <td>₹700</td>\n",
       "      <td>₹700</td>\n",
       "      <td>NaN</td>\n",
       "      <td>4.0</td>\n",
       "      <td>( 1 )</td>\n",
       "      <td>Unisex</td>\n",
       "      <td>Restful Sleep</td>\n",
       "      <td>Tablet</td>\n",
       "    </tr>\n",
       "    <tr>\n",
       "      <th>1301</th>\n",
       "      <td>1301</td>\n",
       "      <td>HealthVit Ashwagandha Powder</td>\n",
       "      <td>₹155</td>\n",
       "      <td>₹155</td>\n",
       "      <td>NaN</td>\n",
       "      <td>4.0</td>\n",
       "      <td>( 1 )</td>\n",
       "      <td>Unisex</td>\n",
       "      <td>Restful Sleep</td>\n",
       "      <td>Powder</td>\n",
       "    </tr>\n",
       "    <tr>\n",
       "      <th>1302</th>\n",
       "      <td>1302</td>\n",
       "      <td>HealthVit Ashwagandha Powder</td>\n",
       "      <td>₹155</td>\n",
       "      <td>₹155</td>\n",
       "      <td>NaN</td>\n",
       "      <td>5.0</td>\n",
       "      <td>( 12 )</td>\n",
       "      <td>Unisex</td>\n",
       "      <td>Restful Sleep</td>\n",
       "      <td>Powder</td>\n",
       "    </tr>\n",
       "    <tr>\n",
       "      <th>1303</th>\n",
       "      <td>1303</td>\n",
       "      <td>Healthvit Ashwagandha Powder 250mg (Pack of 2)</td>\n",
       "      <td>₹400</td>\n",
       "      <td>₹400</td>\n",
       "      <td>NaN</td>\n",
       "      <td>4.0</td>\n",
       "      <td>( 1 )</td>\n",
       "      <td>Unisex</td>\n",
       "      <td>Restful Sleep</td>\n",
       "      <td>Others</td>\n",
       "    </tr>\n",
       "  </tbody>\n",
       "</table>\n",
       "<p>1304 rows × 10 columns</p>\n",
       "</div>"
      ],
      "text/plain": [
       "      Unnamed: 0                                      Product_Title  \\\n",
       "0              0  Wellbeing Nutrition Daily Greens Wholefood Mul...   \n",
       "1              1  HealthKart HK Vitals Multivitamin for Women, B...   \n",
       "2              2       GNC Women's One Daily Multivitamin For Women   \n",
       "3              3  Oziva Daily Women's Multivitamin Tablets For E...   \n",
       "4              4  Carbamide Forte Novosules Woman+ Multivitamin ...   \n",
       "...          ...                                                ...   \n",
       "1299        1299  Healthvit Sleepneed Melatonin 3 mg Advanced Sl...   \n",
       "1300        1300  Healthvit Sleepneed Melatonin 10 mg Advanced S...   \n",
       "1301        1301                       HealthVit Ashwagandha Powder   \n",
       "1302        1302                       HealthVit Ashwagandha Powder   \n",
       "1303        1303     Healthvit Ashwagandha Powder 250mg (Pack of 2)   \n",
       "\n",
       "     Original Price Discounted Price        Additional_Tags  Ratings  \\\n",
       "0         MRP:₹1180             ₹590  FEATURED & BESTSELLER      5.0   \n",
       "1          MRP:₹529             ₹379               FEATURED      4.0   \n",
       "2         MRP:₹1449             ₹899  FEATURED & BESTSELLER      5.0   \n",
       "3          MRP:₹499             ₹299  FEATURED & BESTSELLER      4.0   \n",
       "4          MRP:₹770             ₹499               FEATURED      4.0   \n",
       "...             ...              ...                    ...      ...   \n",
       "1299           ₹500             ₹500                    NaN      1.0   \n",
       "1300           ₹700             ₹700                    NaN      4.0   \n",
       "1301           ₹155             ₹155                    NaN      4.0   \n",
       "1302           ₹155             ₹155                    NaN      5.0   \n",
       "1303           ₹400             ₹400                    NaN      4.0   \n",
       "\n",
       "     Number_of_ratings  Gender         Category Formulation  \n",
       "0              ( 146 )  Unisex  Energy-boosters      Others  \n",
       "1              ( 205 )  Others  Energy-boosters      Others  \n",
       "2               ( 68 )  Female  Energy-boosters      Others  \n",
       "3               ( 97 )  Female  Energy-boosters      Others  \n",
       "4              ( 138 )  Female  Energy-boosters      Others  \n",
       "...                ...     ...              ...         ...  \n",
       "1299             ( 1 )  Unisex    Restful Sleep      Tablet  \n",
       "1300             ( 1 )  Unisex    Restful Sleep      Tablet  \n",
       "1301             ( 1 )  Unisex    Restful Sleep      Powder  \n",
       "1302            ( 12 )  Unisex    Restful Sleep      Powder  \n",
       "1303             ( 1 )  Unisex    Restful Sleep      Others  \n",
       "\n",
       "[1304 rows x 10 columns]"
      ]
     },
     "execution_count": 5,
     "metadata": {},
     "output_type": "execute_result"
    }
   ],
   "source": [
    "ndf"
   ]
  },
  {
   "cell_type": "code",
   "execution_count": 6,
   "id": "b59589a7",
   "metadata": {},
   "outputs": [
    {
     "data": {
      "text/plain": [
       "Index(['Unnamed: 0', 'Product_Title', 'Original Price', 'Discounted Price',\n",
       "       'Additional_Tags', 'Ratings', 'Number_of_ratings', 'Gender', 'Category',\n",
       "       'Formulation'],\n",
       "      dtype='object')"
      ]
     },
     "execution_count": 6,
     "metadata": {},
     "output_type": "execute_result"
    }
   ],
   "source": [
    "ndf.columns"
   ]
  },
  {
   "cell_type": "code",
   "execution_count": 7,
   "id": "87bc1e63",
   "metadata": {},
   "outputs": [],
   "source": [
    "ndf = df.drop(columns=['Unnamed: 0', 'Number_of_ratings'])"
   ]
  },
  {
   "cell_type": "code",
   "execution_count": 8,
   "id": "bcf63641",
   "metadata": {
    "scrolled": true
   },
   "outputs": [
    {
     "data": {
      "text/html": [
       "<div>\n",
       "<style scoped>\n",
       "    .dataframe tbody tr th:only-of-type {\n",
       "        vertical-align: middle;\n",
       "    }\n",
       "\n",
       "    .dataframe tbody tr th {\n",
       "        vertical-align: top;\n",
       "    }\n",
       "\n",
       "    .dataframe thead th {\n",
       "        text-align: right;\n",
       "    }\n",
       "</style>\n",
       "<table border=\"1\" class=\"dataframe\">\n",
       "  <thead>\n",
       "    <tr style=\"text-align: right;\">\n",
       "      <th></th>\n",
       "      <th>Product_Title</th>\n",
       "      <th>Original Price</th>\n",
       "      <th>Discounted Price</th>\n",
       "      <th>Additional_Tags</th>\n",
       "      <th>Ratings</th>\n",
       "      <th>Gender</th>\n",
       "      <th>Category</th>\n",
       "      <th>Formulation</th>\n",
       "    </tr>\n",
       "  </thead>\n",
       "  <tbody>\n",
       "    <tr>\n",
       "      <th>0</th>\n",
       "      <td>Wellbeing Nutrition Daily Greens Wholefood Mul...</td>\n",
       "      <td>MRP:₹1180</td>\n",
       "      <td>₹590</td>\n",
       "      <td>FEATURED &amp; BESTSELLER</td>\n",
       "      <td>5.0</td>\n",
       "      <td>Unisex</td>\n",
       "      <td>Energy-boosters</td>\n",
       "      <td>Others</td>\n",
       "    </tr>\n",
       "    <tr>\n",
       "      <th>1</th>\n",
       "      <td>HealthKart HK Vitals Multivitamin for Women, B...</td>\n",
       "      <td>MRP:₹529</td>\n",
       "      <td>₹379</td>\n",
       "      <td>FEATURED</td>\n",
       "      <td>4.0</td>\n",
       "      <td>Others</td>\n",
       "      <td>Energy-boosters</td>\n",
       "      <td>Others</td>\n",
       "    </tr>\n",
       "    <tr>\n",
       "      <th>2</th>\n",
       "      <td>GNC Women's One Daily Multivitamin For Women</td>\n",
       "      <td>MRP:₹1449</td>\n",
       "      <td>₹899</td>\n",
       "      <td>FEATURED &amp; BESTSELLER</td>\n",
       "      <td>5.0</td>\n",
       "      <td>Female</td>\n",
       "      <td>Energy-boosters</td>\n",
       "      <td>Others</td>\n",
       "    </tr>\n",
       "    <tr>\n",
       "      <th>3</th>\n",
       "      <td>Oziva Daily Women's Multivitamin Tablets For E...</td>\n",
       "      <td>MRP:₹499</td>\n",
       "      <td>₹299</td>\n",
       "      <td>FEATURED &amp; BESTSELLER</td>\n",
       "      <td>4.0</td>\n",
       "      <td>Female</td>\n",
       "      <td>Energy-boosters</td>\n",
       "      <td>Others</td>\n",
       "    </tr>\n",
       "    <tr>\n",
       "      <th>4</th>\n",
       "      <td>Carbamide Forte Novosules Woman+ Multivitamin ...</td>\n",
       "      <td>MRP:₹770</td>\n",
       "      <td>₹499</td>\n",
       "      <td>FEATURED</td>\n",
       "      <td>4.0</td>\n",
       "      <td>Female</td>\n",
       "      <td>Energy-boosters</td>\n",
       "      <td>Others</td>\n",
       "    </tr>\n",
       "    <tr>\n",
       "      <th>...</th>\n",
       "      <td>...</td>\n",
       "      <td>...</td>\n",
       "      <td>...</td>\n",
       "      <td>...</td>\n",
       "      <td>...</td>\n",
       "      <td>...</td>\n",
       "      <td>...</td>\n",
       "      <td>...</td>\n",
       "    </tr>\n",
       "    <tr>\n",
       "      <th>1299</th>\n",
       "      <td>Healthvit Sleepneed Melatonin 3 mg Advanced Sl...</td>\n",
       "      <td>₹500</td>\n",
       "      <td>₹500</td>\n",
       "      <td>NaN</td>\n",
       "      <td>1.0</td>\n",
       "      <td>Unisex</td>\n",
       "      <td>Restful Sleep</td>\n",
       "      <td>Tablet</td>\n",
       "    </tr>\n",
       "    <tr>\n",
       "      <th>1300</th>\n",
       "      <td>Healthvit Sleepneed Melatonin 10 mg Advanced S...</td>\n",
       "      <td>₹700</td>\n",
       "      <td>₹700</td>\n",
       "      <td>NaN</td>\n",
       "      <td>4.0</td>\n",
       "      <td>Unisex</td>\n",
       "      <td>Restful Sleep</td>\n",
       "      <td>Tablet</td>\n",
       "    </tr>\n",
       "    <tr>\n",
       "      <th>1301</th>\n",
       "      <td>HealthVit Ashwagandha Powder</td>\n",
       "      <td>₹155</td>\n",
       "      <td>₹155</td>\n",
       "      <td>NaN</td>\n",
       "      <td>4.0</td>\n",
       "      <td>Unisex</td>\n",
       "      <td>Restful Sleep</td>\n",
       "      <td>Powder</td>\n",
       "    </tr>\n",
       "    <tr>\n",
       "      <th>1302</th>\n",
       "      <td>HealthVit Ashwagandha Powder</td>\n",
       "      <td>₹155</td>\n",
       "      <td>₹155</td>\n",
       "      <td>NaN</td>\n",
       "      <td>5.0</td>\n",
       "      <td>Unisex</td>\n",
       "      <td>Restful Sleep</td>\n",
       "      <td>Powder</td>\n",
       "    </tr>\n",
       "    <tr>\n",
       "      <th>1303</th>\n",
       "      <td>Healthvit Ashwagandha Powder 250mg (Pack of 2)</td>\n",
       "      <td>₹400</td>\n",
       "      <td>₹400</td>\n",
       "      <td>NaN</td>\n",
       "      <td>4.0</td>\n",
       "      <td>Unisex</td>\n",
       "      <td>Restful Sleep</td>\n",
       "      <td>Others</td>\n",
       "    </tr>\n",
       "  </tbody>\n",
       "</table>\n",
       "<p>1304 rows × 8 columns</p>\n",
       "</div>"
      ],
      "text/plain": [
       "                                          Product_Title Original Price  \\\n",
       "0     Wellbeing Nutrition Daily Greens Wholefood Mul...      MRP:₹1180   \n",
       "1     HealthKart HK Vitals Multivitamin for Women, B...       MRP:₹529   \n",
       "2          GNC Women's One Daily Multivitamin For Women      MRP:₹1449   \n",
       "3     Oziva Daily Women's Multivitamin Tablets For E...       MRP:₹499   \n",
       "4     Carbamide Forte Novosules Woman+ Multivitamin ...       MRP:₹770   \n",
       "...                                                 ...            ...   \n",
       "1299  Healthvit Sleepneed Melatonin 3 mg Advanced Sl...           ₹500   \n",
       "1300  Healthvit Sleepneed Melatonin 10 mg Advanced S...           ₹700   \n",
       "1301                       HealthVit Ashwagandha Powder           ₹155   \n",
       "1302                       HealthVit Ashwagandha Powder           ₹155   \n",
       "1303     Healthvit Ashwagandha Powder 250mg (Pack of 2)           ₹400   \n",
       "\n",
       "     Discounted Price        Additional_Tags  Ratings  Gender  \\\n",
       "0                ₹590  FEATURED & BESTSELLER      5.0  Unisex   \n",
       "1                ₹379               FEATURED      4.0  Others   \n",
       "2                ₹899  FEATURED & BESTSELLER      5.0  Female   \n",
       "3                ₹299  FEATURED & BESTSELLER      4.0  Female   \n",
       "4                ₹499               FEATURED      4.0  Female   \n",
       "...               ...                    ...      ...     ...   \n",
       "1299             ₹500                    NaN      1.0  Unisex   \n",
       "1300             ₹700                    NaN      4.0  Unisex   \n",
       "1301             ₹155                    NaN      4.0  Unisex   \n",
       "1302             ₹155                    NaN      5.0  Unisex   \n",
       "1303             ₹400                    NaN      4.0  Unisex   \n",
       "\n",
       "             Category Formulation  \n",
       "0     Energy-boosters      Others  \n",
       "1     Energy-boosters      Others  \n",
       "2     Energy-boosters      Others  \n",
       "3     Energy-boosters      Others  \n",
       "4     Energy-boosters      Others  \n",
       "...               ...         ...  \n",
       "1299    Restful Sleep      Tablet  \n",
       "1300    Restful Sleep      Tablet  \n",
       "1301    Restful Sleep      Powder  \n",
       "1302    Restful Sleep      Powder  \n",
       "1303    Restful Sleep      Others  \n",
       "\n",
       "[1304 rows x 8 columns]"
      ]
     },
     "execution_count": 8,
     "metadata": {},
     "output_type": "execute_result"
    }
   ],
   "source": [
    "ndf"
   ]
  },
  {
   "cell_type": "markdown",
   "id": "dd4c2679",
   "metadata": {},
   "source": [
    "# Structural errors"
   ]
  },
  {
   "cell_type": "code",
   "execution_count": 9,
   "id": "dbb00b4a",
   "metadata": {},
   "outputs": [],
   "source": [
    "ndf['Original Price']=ndf['Original Price'].replace(\"['MRP:','\\u20B9']\",\"\",regex=True)"
   ]
  },
  {
   "cell_type": "code",
   "execution_count": 10,
   "id": "7c854f43",
   "metadata": {},
   "outputs": [
    {
     "data": {
      "text/plain": [
       "0       1180\n",
       "1        529\n",
       "2       1449\n",
       "3        499\n",
       "4        770\n",
       "        ... \n",
       "1299     500\n",
       "1300     700\n",
       "1301     155\n",
       "1302     155\n",
       "1303     400\n",
       "Name: Original Price, Length: 1304, dtype: object"
      ]
     },
     "execution_count": 10,
     "metadata": {},
     "output_type": "execute_result"
    }
   ],
   "source": [
    "ndf['Original Price']"
   ]
  },
  {
   "cell_type": "code",
   "execution_count": 11,
   "id": "c701ea04",
   "metadata": {},
   "outputs": [],
   "source": [
    "ndf['Discounted Price']=ndf['Discounted Price'].replace(\"['\\u20B9']\",\"\",regex=True)"
   ]
  },
  {
   "cell_type": "code",
   "execution_count": 12,
   "id": "93849919",
   "metadata": {},
   "outputs": [
    {
     "data": {
      "text/plain": [
       "0       590\n",
       "1       379\n",
       "2       899\n",
       "3       299\n",
       "4       499\n",
       "       ... \n",
       "1299    500\n",
       "1300    700\n",
       "1301    155\n",
       "1302    155\n",
       "1303    400\n",
       "Name: Discounted Price, Length: 1304, dtype: object"
      ]
     },
     "execution_count": 12,
     "metadata": {},
     "output_type": "execute_result"
    }
   ],
   "source": [
    "ndf['Discounted Price']"
   ]
  },
  {
   "cell_type": "markdown",
   "id": "8091f2a1",
   "metadata": {},
   "source": [
    "# Missing values"
   ]
  },
  {
   "cell_type": "code",
   "execution_count": 13,
   "id": "0201b92a",
   "metadata": {},
   "outputs": [
    {
     "data": {
      "text/plain": [
       "Product_Title          0\n",
       "Original Price         0\n",
       "Discounted Price       0\n",
       "Additional_Tags     1250\n",
       "Ratings              454\n",
       "Gender                 0\n",
       "Category               0\n",
       "Formulation            0\n",
       "dtype: int64"
      ]
     },
     "execution_count": 13,
     "metadata": {},
     "output_type": "execute_result"
    }
   ],
   "source": [
    "ndf.isna().sum()"
   ]
  },
  {
   "cell_type": "code",
   "execution_count": 14,
   "id": "a24d9218",
   "metadata": {},
   "outputs": [
    {
     "data": {
      "text/html": [
       "<div>\n",
       "<style scoped>\n",
       "    .dataframe tbody tr th:only-of-type {\n",
       "        vertical-align: middle;\n",
       "    }\n",
       "\n",
       "    .dataframe tbody tr th {\n",
       "        vertical-align: top;\n",
       "    }\n",
       "\n",
       "    .dataframe thead th {\n",
       "        text-align: right;\n",
       "    }\n",
       "</style>\n",
       "<table border=\"1\" class=\"dataframe\">\n",
       "  <thead>\n",
       "    <tr style=\"text-align: right;\">\n",
       "      <th></th>\n",
       "      <th>Product_Title</th>\n",
       "      <th>Original Price</th>\n",
       "      <th>Discounted Price</th>\n",
       "      <th>Additional_Tags</th>\n",
       "      <th>Ratings</th>\n",
       "      <th>Gender</th>\n",
       "      <th>Category</th>\n",
       "      <th>Formulation</th>\n",
       "    </tr>\n",
       "  </thead>\n",
       "  <tbody>\n",
       "    <tr>\n",
       "      <th>0</th>\n",
       "      <td>Wellbeing Nutrition Daily Greens Wholefood Mul...</td>\n",
       "      <td>1180</td>\n",
       "      <td>590</td>\n",
       "      <td>FEATURED &amp; BESTSELLER</td>\n",
       "      <td>5.0</td>\n",
       "      <td>Unisex</td>\n",
       "      <td>Energy-boosters</td>\n",
       "      <td>Others</td>\n",
       "    </tr>\n",
       "    <tr>\n",
       "      <th>1</th>\n",
       "      <td>HealthKart HK Vitals Multivitamin for Women, B...</td>\n",
       "      <td>529</td>\n",
       "      <td>379</td>\n",
       "      <td>FEATURED</td>\n",
       "      <td>4.0</td>\n",
       "      <td>Others</td>\n",
       "      <td>Energy-boosters</td>\n",
       "      <td>Others</td>\n",
       "    </tr>\n",
       "    <tr>\n",
       "      <th>2</th>\n",
       "      <td>GNC Women's One Daily Multivitamin For Women</td>\n",
       "      <td>1449</td>\n",
       "      <td>899</td>\n",
       "      <td>FEATURED &amp; BESTSELLER</td>\n",
       "      <td>5.0</td>\n",
       "      <td>Female</td>\n",
       "      <td>Energy-boosters</td>\n",
       "      <td>Others</td>\n",
       "    </tr>\n",
       "    <tr>\n",
       "      <th>3</th>\n",
       "      <td>Oziva Daily Women's Multivitamin Tablets For E...</td>\n",
       "      <td>499</td>\n",
       "      <td>299</td>\n",
       "      <td>FEATURED &amp; BESTSELLER</td>\n",
       "      <td>4.0</td>\n",
       "      <td>Female</td>\n",
       "      <td>Energy-boosters</td>\n",
       "      <td>Others</td>\n",
       "    </tr>\n",
       "    <tr>\n",
       "      <th>4</th>\n",
       "      <td>Carbamide Forte Novosules Woman+ Multivitamin ...</td>\n",
       "      <td>770</td>\n",
       "      <td>499</td>\n",
       "      <td>FEATURED</td>\n",
       "      <td>4.0</td>\n",
       "      <td>Female</td>\n",
       "      <td>Energy-boosters</td>\n",
       "      <td>Others</td>\n",
       "    </tr>\n",
       "    <tr>\n",
       "      <th>...</th>\n",
       "      <td>...</td>\n",
       "      <td>...</td>\n",
       "      <td>...</td>\n",
       "      <td>...</td>\n",
       "      <td>...</td>\n",
       "      <td>...</td>\n",
       "      <td>...</td>\n",
       "      <td>...</td>\n",
       "    </tr>\n",
       "    <tr>\n",
       "      <th>1299</th>\n",
       "      <td>Healthvit Sleepneed Melatonin 3 mg Advanced Sl...</td>\n",
       "      <td>500</td>\n",
       "      <td>500</td>\n",
       "      <td>NaN</td>\n",
       "      <td>1.0</td>\n",
       "      <td>Unisex</td>\n",
       "      <td>Restful Sleep</td>\n",
       "      <td>Tablet</td>\n",
       "    </tr>\n",
       "    <tr>\n",
       "      <th>1300</th>\n",
       "      <td>Healthvit Sleepneed Melatonin 10 mg Advanced S...</td>\n",
       "      <td>700</td>\n",
       "      <td>700</td>\n",
       "      <td>NaN</td>\n",
       "      <td>4.0</td>\n",
       "      <td>Unisex</td>\n",
       "      <td>Restful Sleep</td>\n",
       "      <td>Tablet</td>\n",
       "    </tr>\n",
       "    <tr>\n",
       "      <th>1301</th>\n",
       "      <td>HealthVit Ashwagandha Powder</td>\n",
       "      <td>155</td>\n",
       "      <td>155</td>\n",
       "      <td>NaN</td>\n",
       "      <td>4.0</td>\n",
       "      <td>Unisex</td>\n",
       "      <td>Restful Sleep</td>\n",
       "      <td>Powder</td>\n",
       "    </tr>\n",
       "    <tr>\n",
       "      <th>1302</th>\n",
       "      <td>HealthVit Ashwagandha Powder</td>\n",
       "      <td>155</td>\n",
       "      <td>155</td>\n",
       "      <td>NaN</td>\n",
       "      <td>5.0</td>\n",
       "      <td>Unisex</td>\n",
       "      <td>Restful Sleep</td>\n",
       "      <td>Powder</td>\n",
       "    </tr>\n",
       "    <tr>\n",
       "      <th>1303</th>\n",
       "      <td>Healthvit Ashwagandha Powder 250mg (Pack of 2)</td>\n",
       "      <td>400</td>\n",
       "      <td>400</td>\n",
       "      <td>NaN</td>\n",
       "      <td>4.0</td>\n",
       "      <td>Unisex</td>\n",
       "      <td>Restful Sleep</td>\n",
       "      <td>Others</td>\n",
       "    </tr>\n",
       "  </tbody>\n",
       "</table>\n",
       "<p>1304 rows × 8 columns</p>\n",
       "</div>"
      ],
      "text/plain": [
       "                                          Product_Title Original Price  \\\n",
       "0     Wellbeing Nutrition Daily Greens Wholefood Mul...           1180   \n",
       "1     HealthKart HK Vitals Multivitamin for Women, B...            529   \n",
       "2          GNC Women's One Daily Multivitamin For Women           1449   \n",
       "3     Oziva Daily Women's Multivitamin Tablets For E...            499   \n",
       "4     Carbamide Forte Novosules Woman+ Multivitamin ...            770   \n",
       "...                                                 ...            ...   \n",
       "1299  Healthvit Sleepneed Melatonin 3 mg Advanced Sl...            500   \n",
       "1300  Healthvit Sleepneed Melatonin 10 mg Advanced S...            700   \n",
       "1301                       HealthVit Ashwagandha Powder            155   \n",
       "1302                       HealthVit Ashwagandha Powder            155   \n",
       "1303     Healthvit Ashwagandha Powder 250mg (Pack of 2)            400   \n",
       "\n",
       "     Discounted Price        Additional_Tags  Ratings  Gender  \\\n",
       "0                 590  FEATURED & BESTSELLER      5.0  Unisex   \n",
       "1                 379               FEATURED      4.0  Others   \n",
       "2                 899  FEATURED & BESTSELLER      5.0  Female   \n",
       "3                 299  FEATURED & BESTSELLER      4.0  Female   \n",
       "4                 499               FEATURED      4.0  Female   \n",
       "...               ...                    ...      ...     ...   \n",
       "1299              500                    NaN      1.0  Unisex   \n",
       "1300              700                    NaN      4.0  Unisex   \n",
       "1301              155                    NaN      4.0  Unisex   \n",
       "1302              155                    NaN      5.0  Unisex   \n",
       "1303              400                    NaN      4.0  Unisex   \n",
       "\n",
       "             Category Formulation  \n",
       "0     Energy-boosters      Others  \n",
       "1     Energy-boosters      Others  \n",
       "2     Energy-boosters      Others  \n",
       "3     Energy-boosters      Others  \n",
       "4     Energy-boosters      Others  \n",
       "...               ...         ...  \n",
       "1299    Restful Sleep      Tablet  \n",
       "1300    Restful Sleep      Tablet  \n",
       "1301    Restful Sleep      Powder  \n",
       "1302    Restful Sleep      Powder  \n",
       "1303    Restful Sleep      Others  \n",
       "\n",
       "[1304 rows x 8 columns]"
      ]
     },
     "execution_count": 14,
     "metadata": {},
     "output_type": "execute_result"
    }
   ],
   "source": [
    "ndf"
   ]
  },
  {
   "cell_type": "code",
   "execution_count": 15,
   "id": "54916f10",
   "metadata": {},
   "outputs": [],
   "source": [
    "ndf['Additional_Tags'] = ndf['Additional_Tags'].fillna('Rising Products')"
   ]
  },
  {
   "cell_type": "code",
   "execution_count": 16,
   "id": "1c8d161d",
   "metadata": {},
   "outputs": [],
   "source": [
    "ndf.dropna(axis=0, inplace=True)"
   ]
  },
  {
   "cell_type": "code",
   "execution_count": 17,
   "id": "7b0f886f",
   "metadata": {},
   "outputs": [
    {
     "data": {
      "text/html": [
       "<div>\n",
       "<style scoped>\n",
       "    .dataframe tbody tr th:only-of-type {\n",
       "        vertical-align: middle;\n",
       "    }\n",
       "\n",
       "    .dataframe tbody tr th {\n",
       "        vertical-align: top;\n",
       "    }\n",
       "\n",
       "    .dataframe thead th {\n",
       "        text-align: right;\n",
       "    }\n",
       "</style>\n",
       "<table border=\"1\" class=\"dataframe\">\n",
       "  <thead>\n",
       "    <tr style=\"text-align: right;\">\n",
       "      <th></th>\n",
       "      <th>Product_Title</th>\n",
       "      <th>Original Price</th>\n",
       "      <th>Discounted Price</th>\n",
       "      <th>Additional_Tags</th>\n",
       "      <th>Ratings</th>\n",
       "      <th>Gender</th>\n",
       "      <th>Category</th>\n",
       "      <th>Formulation</th>\n",
       "    </tr>\n",
       "  </thead>\n",
       "  <tbody>\n",
       "    <tr>\n",
       "      <th>0</th>\n",
       "      <td>Wellbeing Nutrition Daily Greens Wholefood Mul...</td>\n",
       "      <td>1180</td>\n",
       "      <td>590</td>\n",
       "      <td>FEATURED &amp; BESTSELLER</td>\n",
       "      <td>5.0</td>\n",
       "      <td>Unisex</td>\n",
       "      <td>Energy-boosters</td>\n",
       "      <td>Others</td>\n",
       "    </tr>\n",
       "    <tr>\n",
       "      <th>1</th>\n",
       "      <td>HealthKart HK Vitals Multivitamin for Women, B...</td>\n",
       "      <td>529</td>\n",
       "      <td>379</td>\n",
       "      <td>FEATURED</td>\n",
       "      <td>4.0</td>\n",
       "      <td>Others</td>\n",
       "      <td>Energy-boosters</td>\n",
       "      <td>Others</td>\n",
       "    </tr>\n",
       "    <tr>\n",
       "      <th>2</th>\n",
       "      <td>GNC Women's One Daily Multivitamin For Women</td>\n",
       "      <td>1449</td>\n",
       "      <td>899</td>\n",
       "      <td>FEATURED &amp; BESTSELLER</td>\n",
       "      <td>5.0</td>\n",
       "      <td>Female</td>\n",
       "      <td>Energy-boosters</td>\n",
       "      <td>Others</td>\n",
       "    </tr>\n",
       "    <tr>\n",
       "      <th>3</th>\n",
       "      <td>Oziva Daily Women's Multivitamin Tablets For E...</td>\n",
       "      <td>499</td>\n",
       "      <td>299</td>\n",
       "      <td>FEATURED &amp; BESTSELLER</td>\n",
       "      <td>4.0</td>\n",
       "      <td>Female</td>\n",
       "      <td>Energy-boosters</td>\n",
       "      <td>Others</td>\n",
       "    </tr>\n",
       "    <tr>\n",
       "      <th>4</th>\n",
       "      <td>Carbamide Forte Novosules Woman+ Multivitamin ...</td>\n",
       "      <td>770</td>\n",
       "      <td>499</td>\n",
       "      <td>FEATURED</td>\n",
       "      <td>4.0</td>\n",
       "      <td>Female</td>\n",
       "      <td>Energy-boosters</td>\n",
       "      <td>Others</td>\n",
       "    </tr>\n",
       "    <tr>\n",
       "      <th>...</th>\n",
       "      <td>...</td>\n",
       "      <td>...</td>\n",
       "      <td>...</td>\n",
       "      <td>...</td>\n",
       "      <td>...</td>\n",
       "      <td>...</td>\n",
       "      <td>...</td>\n",
       "      <td>...</td>\n",
       "    </tr>\n",
       "    <tr>\n",
       "      <th>1299</th>\n",
       "      <td>Healthvit Sleepneed Melatonin 3 mg Advanced Sl...</td>\n",
       "      <td>500</td>\n",
       "      <td>500</td>\n",
       "      <td>Rising Products</td>\n",
       "      <td>1.0</td>\n",
       "      <td>Unisex</td>\n",
       "      <td>Restful Sleep</td>\n",
       "      <td>Tablet</td>\n",
       "    </tr>\n",
       "    <tr>\n",
       "      <th>1300</th>\n",
       "      <td>Healthvit Sleepneed Melatonin 10 mg Advanced S...</td>\n",
       "      <td>700</td>\n",
       "      <td>700</td>\n",
       "      <td>Rising Products</td>\n",
       "      <td>4.0</td>\n",
       "      <td>Unisex</td>\n",
       "      <td>Restful Sleep</td>\n",
       "      <td>Tablet</td>\n",
       "    </tr>\n",
       "    <tr>\n",
       "      <th>1301</th>\n",
       "      <td>HealthVit Ashwagandha Powder</td>\n",
       "      <td>155</td>\n",
       "      <td>155</td>\n",
       "      <td>Rising Products</td>\n",
       "      <td>4.0</td>\n",
       "      <td>Unisex</td>\n",
       "      <td>Restful Sleep</td>\n",
       "      <td>Powder</td>\n",
       "    </tr>\n",
       "    <tr>\n",
       "      <th>1302</th>\n",
       "      <td>HealthVit Ashwagandha Powder</td>\n",
       "      <td>155</td>\n",
       "      <td>155</td>\n",
       "      <td>Rising Products</td>\n",
       "      <td>5.0</td>\n",
       "      <td>Unisex</td>\n",
       "      <td>Restful Sleep</td>\n",
       "      <td>Powder</td>\n",
       "    </tr>\n",
       "    <tr>\n",
       "      <th>1303</th>\n",
       "      <td>Healthvit Ashwagandha Powder 250mg (Pack of 2)</td>\n",
       "      <td>400</td>\n",
       "      <td>400</td>\n",
       "      <td>Rising Products</td>\n",
       "      <td>4.0</td>\n",
       "      <td>Unisex</td>\n",
       "      <td>Restful Sleep</td>\n",
       "      <td>Others</td>\n",
       "    </tr>\n",
       "  </tbody>\n",
       "</table>\n",
       "<p>850 rows × 8 columns</p>\n",
       "</div>"
      ],
      "text/plain": [
       "                                          Product_Title Original Price  \\\n",
       "0     Wellbeing Nutrition Daily Greens Wholefood Mul...           1180   \n",
       "1     HealthKart HK Vitals Multivitamin for Women, B...            529   \n",
       "2          GNC Women's One Daily Multivitamin For Women           1449   \n",
       "3     Oziva Daily Women's Multivitamin Tablets For E...            499   \n",
       "4     Carbamide Forte Novosules Woman+ Multivitamin ...            770   \n",
       "...                                                 ...            ...   \n",
       "1299  Healthvit Sleepneed Melatonin 3 mg Advanced Sl...            500   \n",
       "1300  Healthvit Sleepneed Melatonin 10 mg Advanced S...            700   \n",
       "1301                       HealthVit Ashwagandha Powder            155   \n",
       "1302                       HealthVit Ashwagandha Powder            155   \n",
       "1303     Healthvit Ashwagandha Powder 250mg (Pack of 2)            400   \n",
       "\n",
       "     Discounted Price        Additional_Tags  Ratings  Gender  \\\n",
       "0                 590  FEATURED & BESTSELLER      5.0  Unisex   \n",
       "1                 379               FEATURED      4.0  Others   \n",
       "2                 899  FEATURED & BESTSELLER      5.0  Female   \n",
       "3                 299  FEATURED & BESTSELLER      4.0  Female   \n",
       "4                 499               FEATURED      4.0  Female   \n",
       "...               ...                    ...      ...     ...   \n",
       "1299              500        Rising Products      1.0  Unisex   \n",
       "1300              700        Rising Products      4.0  Unisex   \n",
       "1301              155        Rising Products      4.0  Unisex   \n",
       "1302              155        Rising Products      5.0  Unisex   \n",
       "1303              400        Rising Products      4.0  Unisex   \n",
       "\n",
       "             Category Formulation  \n",
       "0     Energy-boosters      Others  \n",
       "1     Energy-boosters      Others  \n",
       "2     Energy-boosters      Others  \n",
       "3     Energy-boosters      Others  \n",
       "4     Energy-boosters      Others  \n",
       "...               ...         ...  \n",
       "1299    Restful Sleep      Tablet  \n",
       "1300    Restful Sleep      Tablet  \n",
       "1301    Restful Sleep      Powder  \n",
       "1302    Restful Sleep      Powder  \n",
       "1303    Restful Sleep      Others  \n",
       "\n",
       "[850 rows x 8 columns]"
      ]
     },
     "execution_count": 17,
     "metadata": {},
     "output_type": "execute_result"
    }
   ],
   "source": [
    "ndf"
   ]
  },
  {
   "cell_type": "code",
   "execution_count": 18,
   "id": "e11729eb",
   "metadata": {},
   "outputs": [
    {
     "data": {
      "text/plain": [
       "Product_Title       0\n",
       "Original Price      0\n",
       "Discounted Price    0\n",
       "Additional_Tags     0\n",
       "Ratings             0\n",
       "Gender              0\n",
       "Category            0\n",
       "Formulation         0\n",
       "dtype: int64"
      ]
     },
     "execution_count": 18,
     "metadata": {},
     "output_type": "execute_result"
    }
   ],
   "source": [
    "ndf.isna().sum()"
   ]
  },
  {
   "cell_type": "markdown",
   "id": "d963bb60",
   "metadata": {},
   "source": [
    "# Type casting"
   ]
  },
  {
   "cell_type": "code",
   "execution_count": 19,
   "id": "426bfaee",
   "metadata": {},
   "outputs": [
    {
     "data": {
      "text/plain": [
       "Product_Title        object\n",
       "Original Price       object\n",
       "Discounted Price     object\n",
       "Additional_Tags      object\n",
       "Ratings             float64\n",
       "Gender               object\n",
       "Category             object\n",
       "Formulation          object\n",
       "dtype: object"
      ]
     },
     "execution_count": 19,
     "metadata": {},
     "output_type": "execute_result"
    }
   ],
   "source": [
    "ndf.dtypes"
   ]
  },
  {
   "cell_type": "code",
   "execution_count": 20,
   "id": "5b983c21",
   "metadata": {},
   "outputs": [],
   "source": [
    "ndf[['Original Price',\"Discounted Price\",'Ratings']]=ndf[['Original Price',\"Discounted Price\",'Ratings']].astype('int64')"
   ]
  },
  {
   "cell_type": "code",
   "execution_count": 21,
   "id": "9d3a4c98",
   "metadata": {},
   "outputs": [
    {
     "data": {
      "text/plain": [
       "Product_Title       object\n",
       "Original Price       int64\n",
       "Discounted Price     int64\n",
       "Additional_Tags     object\n",
       "Ratings              int64\n",
       "Gender              object\n",
       "Category            object\n",
       "Formulation         object\n",
       "dtype: object"
      ]
     },
     "execution_count": 21,
     "metadata": {},
     "output_type": "execute_result"
    }
   ],
   "source": [
    "ndf.dtypes"
   ]
  },
  {
   "cell_type": "code",
   "execution_count": 22,
   "id": "1769008a",
   "metadata": {},
   "outputs": [],
   "source": [
    "ndf.to_csv(\"NykaaHealthSupp_cleaned.csv\")"
   ]
  },
  {
   "cell_type": "markdown",
   "id": "68f3fcfd",
   "metadata": {},
   "source": [
    "## Data Visualization"
   ]
  },
  {
   "cell_type": "code",
   "execution_count": 23,
   "id": "3ccce9a9",
   "metadata": {},
   "outputs": [],
   "source": [
    "df = pd.read_csv(r\"C:\\Users\\91852\\Data Science\\Data analysis\\EDA Project\\NykaaHealthSupp_cleaned.csv\")"
   ]
  },
  {
   "cell_type": "code",
   "execution_count": 24,
   "id": "ee6cf3a9",
   "metadata": {},
   "outputs": [
    {
     "data": {
      "text/plain": [
       "Index(['Unnamed: 0', 'Product_Title', 'Original Price', 'Discounted Price',\n",
       "       'Additional_Tags', 'Ratings', 'Gender', 'Category', 'Formulation'],\n",
       "      dtype='object')"
      ]
     },
     "execution_count": 24,
     "metadata": {},
     "output_type": "execute_result"
    }
   ],
   "source": [
    "df.columns"
   ]
  },
  {
   "cell_type": "code",
   "execution_count": 29,
   "id": "868b503b",
   "metadata": {},
   "outputs": [],
   "source": [
    "df = df.drop(columns='Unnamed: 0')"
   ]
  },
  {
   "cell_type": "code",
   "execution_count": 30,
   "id": "a454a58d",
   "metadata": {},
   "outputs": [
    {
     "data": {
      "text/html": [
       "<div>\n",
       "<style scoped>\n",
       "    .dataframe tbody tr th:only-of-type {\n",
       "        vertical-align: middle;\n",
       "    }\n",
       "\n",
       "    .dataframe tbody tr th {\n",
       "        vertical-align: top;\n",
       "    }\n",
       "\n",
       "    .dataframe thead th {\n",
       "        text-align: right;\n",
       "    }\n",
       "</style>\n",
       "<table border=\"1\" class=\"dataframe\">\n",
       "  <thead>\n",
       "    <tr style=\"text-align: right;\">\n",
       "      <th></th>\n",
       "      <th>Product_Title</th>\n",
       "      <th>Original Price</th>\n",
       "      <th>Discounted Price</th>\n",
       "      <th>Additional_Tags</th>\n",
       "      <th>Ratings</th>\n",
       "      <th>Gender</th>\n",
       "      <th>Category</th>\n",
       "      <th>Formulation</th>\n",
       "    </tr>\n",
       "  </thead>\n",
       "  <tbody>\n",
       "    <tr>\n",
       "      <th>0</th>\n",
       "      <td>Wellbeing Nutrition Daily Greens Wholefood Mul...</td>\n",
       "      <td>1180</td>\n",
       "      <td>590</td>\n",
       "      <td>FEATURED &amp; BESTSELLER</td>\n",
       "      <td>5</td>\n",
       "      <td>Unisex</td>\n",
       "      <td>Energy-boosters</td>\n",
       "      <td>Others</td>\n",
       "    </tr>\n",
       "    <tr>\n",
       "      <th>1</th>\n",
       "      <td>HealthKart HK Vitals Multivitamin for Women, B...</td>\n",
       "      <td>529</td>\n",
       "      <td>379</td>\n",
       "      <td>FEATURED</td>\n",
       "      <td>4</td>\n",
       "      <td>Others</td>\n",
       "      <td>Energy-boosters</td>\n",
       "      <td>Others</td>\n",
       "    </tr>\n",
       "    <tr>\n",
       "      <th>2</th>\n",
       "      <td>GNC Women's One Daily Multivitamin For Women</td>\n",
       "      <td>1449</td>\n",
       "      <td>899</td>\n",
       "      <td>FEATURED &amp; BESTSELLER</td>\n",
       "      <td>5</td>\n",
       "      <td>Female</td>\n",
       "      <td>Energy-boosters</td>\n",
       "      <td>Others</td>\n",
       "    </tr>\n",
       "    <tr>\n",
       "      <th>3</th>\n",
       "      <td>Oziva Daily Women's Multivitamin Tablets For E...</td>\n",
       "      <td>499</td>\n",
       "      <td>299</td>\n",
       "      <td>FEATURED &amp; BESTSELLER</td>\n",
       "      <td>4</td>\n",
       "      <td>Female</td>\n",
       "      <td>Energy-boosters</td>\n",
       "      <td>Others</td>\n",
       "    </tr>\n",
       "    <tr>\n",
       "      <th>4</th>\n",
       "      <td>Carbamide Forte Novosules Woman+ Multivitamin ...</td>\n",
       "      <td>770</td>\n",
       "      <td>499</td>\n",
       "      <td>FEATURED</td>\n",
       "      <td>4</td>\n",
       "      <td>Female</td>\n",
       "      <td>Energy-boosters</td>\n",
       "      <td>Others</td>\n",
       "    </tr>\n",
       "    <tr>\n",
       "      <th>...</th>\n",
       "      <td>...</td>\n",
       "      <td>...</td>\n",
       "      <td>...</td>\n",
       "      <td>...</td>\n",
       "      <td>...</td>\n",
       "      <td>...</td>\n",
       "      <td>...</td>\n",
       "      <td>...</td>\n",
       "    </tr>\n",
       "    <tr>\n",
       "      <th>845</th>\n",
       "      <td>Healthvit Sleepneed Melatonin 3 mg Advanced Sl...</td>\n",
       "      <td>500</td>\n",
       "      <td>500</td>\n",
       "      <td>Rising Products</td>\n",
       "      <td>1</td>\n",
       "      <td>Unisex</td>\n",
       "      <td>Restful Sleep</td>\n",
       "      <td>Tablet</td>\n",
       "    </tr>\n",
       "    <tr>\n",
       "      <th>846</th>\n",
       "      <td>Healthvit Sleepneed Melatonin 10 mg Advanced S...</td>\n",
       "      <td>700</td>\n",
       "      <td>700</td>\n",
       "      <td>Rising Products</td>\n",
       "      <td>4</td>\n",
       "      <td>Unisex</td>\n",
       "      <td>Restful Sleep</td>\n",
       "      <td>Tablet</td>\n",
       "    </tr>\n",
       "    <tr>\n",
       "      <th>847</th>\n",
       "      <td>HealthVit Ashwagandha Powder</td>\n",
       "      <td>155</td>\n",
       "      <td>155</td>\n",
       "      <td>Rising Products</td>\n",
       "      <td>4</td>\n",
       "      <td>Unisex</td>\n",
       "      <td>Restful Sleep</td>\n",
       "      <td>Powder</td>\n",
       "    </tr>\n",
       "    <tr>\n",
       "      <th>848</th>\n",
       "      <td>HealthVit Ashwagandha Powder</td>\n",
       "      <td>155</td>\n",
       "      <td>155</td>\n",
       "      <td>Rising Products</td>\n",
       "      <td>5</td>\n",
       "      <td>Unisex</td>\n",
       "      <td>Restful Sleep</td>\n",
       "      <td>Powder</td>\n",
       "    </tr>\n",
       "    <tr>\n",
       "      <th>849</th>\n",
       "      <td>Healthvit Ashwagandha Powder 250mg (Pack of 2)</td>\n",
       "      <td>400</td>\n",
       "      <td>400</td>\n",
       "      <td>Rising Products</td>\n",
       "      <td>4</td>\n",
       "      <td>Unisex</td>\n",
       "      <td>Restful Sleep</td>\n",
       "      <td>Others</td>\n",
       "    </tr>\n",
       "  </tbody>\n",
       "</table>\n",
       "<p>850 rows × 8 columns</p>\n",
       "</div>"
      ],
      "text/plain": [
       "                                         Product_Title  Original Price  \\\n",
       "0    Wellbeing Nutrition Daily Greens Wholefood Mul...            1180   \n",
       "1    HealthKart HK Vitals Multivitamin for Women, B...             529   \n",
       "2         GNC Women's One Daily Multivitamin For Women            1449   \n",
       "3    Oziva Daily Women's Multivitamin Tablets For E...             499   \n",
       "4    Carbamide Forte Novosules Woman+ Multivitamin ...             770   \n",
       "..                                                 ...             ...   \n",
       "845  Healthvit Sleepneed Melatonin 3 mg Advanced Sl...             500   \n",
       "846  Healthvit Sleepneed Melatonin 10 mg Advanced S...             700   \n",
       "847                       HealthVit Ashwagandha Powder             155   \n",
       "848                       HealthVit Ashwagandha Powder             155   \n",
       "849     Healthvit Ashwagandha Powder 250mg (Pack of 2)             400   \n",
       "\n",
       "     Discounted Price        Additional_Tags  Ratings  Gender  \\\n",
       "0                 590  FEATURED & BESTSELLER        5  Unisex   \n",
       "1                 379               FEATURED        4  Others   \n",
       "2                 899  FEATURED & BESTSELLER        5  Female   \n",
       "3                 299  FEATURED & BESTSELLER        4  Female   \n",
       "4                 499               FEATURED        4  Female   \n",
       "..                ...                    ...      ...     ...   \n",
       "845               500        Rising Products        1  Unisex   \n",
       "846               700        Rising Products        4  Unisex   \n",
       "847               155        Rising Products        4  Unisex   \n",
       "848               155        Rising Products        5  Unisex   \n",
       "849               400        Rising Products        4  Unisex   \n",
       "\n",
       "            Category Formulation  \n",
       "0    Energy-boosters      Others  \n",
       "1    Energy-boosters      Others  \n",
       "2    Energy-boosters      Others  \n",
       "3    Energy-boosters      Others  \n",
       "4    Energy-boosters      Others  \n",
       "..               ...         ...  \n",
       "845    Restful Sleep      Tablet  \n",
       "846    Restful Sleep      Tablet  \n",
       "847    Restful Sleep      Powder  \n",
       "848    Restful Sleep      Powder  \n",
       "849    Restful Sleep      Others  \n",
       "\n",
       "[850 rows x 8 columns]"
      ]
     },
     "execution_count": 30,
     "metadata": {},
     "output_type": "execute_result"
    }
   ],
   "source": [
    "df"
   ]
  },
  {
   "cell_type": "markdown",
   "id": "5cc00255",
   "metadata": {},
   "source": [
    "### Univariate Analysis"
   ]
  },
  {
   "cell_type": "code",
   "execution_count": 31,
   "id": "7b77eb28",
   "metadata": {
    "scrolled": true
   },
   "outputs": [
    {
     "name": "stderr",
     "output_type": "stream",
     "text": [
      "C:\\Users\\91852\\AppData\\Local\\Temp\\ipykernel_9252\\3371525591.py:1: UserWarning: \n",
      "\n",
      "`distplot` is a deprecated function and will be removed in seaborn v0.14.0.\n",
      "\n",
      "Please adapt your code to use either `displot` (a figure-level function with\n",
      "similar flexibility) or `histplot` (an axes-level function for histograms).\n",
      "\n",
      "For a guide to updating your code to use the new functions, please see\n",
      "https://gist.github.com/mwaskom/de44147ed2974457ad6372750bbe5751\n",
      "\n",
      "  sns.distplot(df['Discounted Price'], color='orange')\n"
     ]
    },
    {
     "data": {
      "text/plain": [
       "<Axes: xlabel='Discounted Price', ylabel='Density'>"
      ]
     },
     "execution_count": 31,
     "metadata": {},
     "output_type": "execute_result"
    },
    {
     "data": {
      "image/png": "[encoded data removed]",
      "text/plain": [
       "<Figure size 640x480 with 1 Axes>"
      ]
     },
     "metadata": {},
     "output_type": "display_data"
    }
   ],
   "source": [
    "sns.distplot(df['Discounted Price'], color='orange')"
   ]
  },
  {
   "cell_type": "code",
   "execution_count": null,
   "id": "c6f04175",
   "metadata": {},
   "outputs": [],
   "source": [
    "Insights:\n",
    "\n",
    "    * most of the products' price is below 1500 "
   ]
  },
  {
   "cell_type": "code",
   "execution_count": 32,
   "id": "a7188a21",
   "metadata": {},
   "outputs": [
    {
     "data": {
      "text/plain": [
       "<Axes: ylabel='Percentage'>"
      ]
     },
     "execution_count": 32,
     "metadata": {},
     "output_type": "execute_result"
    },
    {
     "data": {
      "image/png": "[encoded data removed]",
      "text/plain": [
       "<Figure size 800x1000 with 1 Axes>"
      ]
     },
     "metadata": {},
     "output_type": "display_data"
    }
   ],
   "source": [
    "(df['Category'].value_counts()/len(df['Category'])).plot(kind='pie',\n",
    "                                                        legend=True,\n",
    "                                                        autopct = '%2.2f%%',\n",
    "                                                        figsize=(8,10),\n",
    "                                                        ylabel = 'Percentage')"
   ]
  },
  {
   "cell_type": "markdown",
   "id": "1d938cb8",
   "metadata": {},
   "source": [
    "Insights:\n",
    "    * The pie chart illustrates the distribution of each category products\n",
    "    * Energy-boosters products dominate the budget, accounting for 32.63% of the total available products\n",
    "    * Followed by Immunity boosters which contribute 18.01%\n",
    "    * Notably, restful sleep products are relatively low at 9.24%\n",
    "    * In the pie chart representation, both 'Stronger Bones' and 'Healthy Heart' categories share an equal percentage of products on the site, reflecting a balanced distribution and highlighting the importance placed on both bone health and cardiovascular well-being\n",
    "    --Energy boosters and immunity boosters together makeup 50% of the data"
   ]
  },
  {
   "cell_type": "markdown",
   "id": "88dd90b7",
   "metadata": {},
   "source": [
    "### Bivariate Analysis"
   ]
  },
  {
   "cell_type": "code",
   "execution_count": 33,
   "id": "964055ef",
   "metadata": {},
   "outputs": [
    {
     "data": {
      "text/html": [
       "<div>\n",
       "<style scoped>\n",
       "    .dataframe tbody tr th:only-of-type {\n",
       "        vertical-align: middle;\n",
       "    }\n",
       "\n",
       "    .dataframe tbody tr th {\n",
       "        vertical-align: top;\n",
       "    }\n",
       "\n",
       "    .dataframe thead th {\n",
       "        text-align: right;\n",
       "    }\n",
       "</style>\n",
       "<table border=\"1\" class=\"dataframe\">\n",
       "  <thead>\n",
       "    <tr style=\"text-align: right;\">\n",
       "      <th></th>\n",
       "      <th>Original Price</th>\n",
       "      <th>Discounted Price</th>\n",
       "      <th>Ratings</th>\n",
       "    </tr>\n",
       "  </thead>\n",
       "  <tbody>\n",
       "    <tr>\n",
       "      <th>Original Price</th>\n",
       "      <td>1.000000</td>\n",
       "      <td>0.922009</td>\n",
       "      <td>0.000608</td>\n",
       "    </tr>\n",
       "    <tr>\n",
       "      <th>Discounted Price</th>\n",
       "      <td>0.922009</td>\n",
       "      <td>1.000000</td>\n",
       "      <td>-0.044785</td>\n",
       "    </tr>\n",
       "    <tr>\n",
       "      <th>Ratings</th>\n",
       "      <td>0.000608</td>\n",
       "      <td>-0.044785</td>\n",
       "      <td>1.000000</td>\n",
       "    </tr>\n",
       "  </tbody>\n",
       "</table>\n",
       "</div>"
      ],
      "text/plain": [
       "                  Original Price  Discounted Price   Ratings\n",
       "Original Price          1.000000          0.922009  0.000608\n",
       "Discounted Price        0.922009          1.000000 -0.044785\n",
       "Ratings                 0.000608         -0.044785  1.000000"
      ]
     },
     "execution_count": 33,
     "metadata": {},
     "output_type": "execute_result"
    }
   ],
   "source": [
    "df.corr(numeric_only=True)"
   ]
  },
  {
   "cell_type": "code",
   "execution_count": 34,
   "id": "f1cabbc2",
   "metadata": {},
   "outputs": [
    {
     "data": {
      "text/plain": [
       "<Axes: xlabel='Original Price', ylabel='Discounted Price'>"
      ]
     },
     "execution_count": 34,
     "metadata": {},
     "output_type": "execute_result"
    },
    {
     "data": {
      "image/png": "[encoded data removed]",
      "text/plain": [
       "<Figure size 640x480 with 1 Axes>"
      ]
     },
     "metadata": {},
     "output_type": "display_data"
    }
   ],
   "source": [
    "df.plot('Original Price', 'Discounted Price', kind='scatter')"
   ]
  },
  {
   "cell_type": "markdown",
   "id": "d470f4a6",
   "metadata": {},
   "source": [
    "Insights:\n",
    "    *The scatter plot depicts the relationship between Original price(x-axis) and Discounted Price on y-axis\n",
    "    *Evidently, there is a positive correlation between original price and discounted price\n",
    "    *From the correlation matrix, the correlation coefficient between original price and discounted price is strong and almost perfectly correlated(0.93)\n",
    "    *There are few data points that significatly deviate from the overall pattern(4-5outliers)"
   ]
  },
  {
   "cell_type": "code",
   "execution_count": 35,
   "id": "03de1641",
   "metadata": {},
   "outputs": [
    {
     "data": {
      "image/png": "[encoded data removed]",
      "text/plain": [
       "<Figure size 640x480 with 1 Axes>"
      ]
     },
     "metadata": {},
     "output_type": "display_data"
    },
    {
     "data": {
      "text/plain": [
       "<Figure size 800x600 with 0 Axes>"
      ]
     },
     "metadata": {},
     "output_type": "display_data"
    }
   ],
   "source": [
    "fig, ax = plt.subplots()\n",
    "sns.countplot(data = df, x='Ratings', hue='Gender')\n",
    "plt.figure(figsize=(8,6))\n",
    "plt.show()"
   ]
  },
  {
   "cell_type": "markdown",
   "id": "9c9d0c76",
   "metadata": {},
   "source": [
    "Insights:\n",
    "    *The bar graph provides an overview of how ratings are distributed across different gender categories\n",
    "    *Ratings are measured on a scale from 1 to 5.\n",
    "    *The bars for unisex generally appear higher, indicating a tendency to give higher ratings.\n",
    "    *Males, on the other hand, exhibit a more varied distribution, with less number of ratings.\n",
    "    *Despite the male category having fewer ratings, it is noteworthy that there are no instances where customers gave 1 or 2-star ratings"
   ]
  },
  {
   "cell_type": "code",
   "execution_count": 36,
   "id": "cadfb9fb",
   "metadata": {},
   "outputs": [
    {
     "data": {
      "text/plain": [
       "Text(0.5, 1.0, 'Gender-wise group bar chart for each Category')"
      ]
     },
     "execution_count": 36,
     "metadata": {},
     "output_type": "execute_result"
    },
    {
     "data": {
      "image/png": "[encoded data removed]",
      "text/plain": [
       "<Figure size 1000x600 with 1 Axes>"
      ]
     },
     "metadata": {},
     "output_type": "display_data"
    }
   ],
   "source": [
    "plt.figure(figsize=(10, 6))\n",
    "\n",
    "sns.countplot(x='Category', hue='Gender', data=df)\n",
    "plt.title(\"Gender-wise group bar chart for each Category\")"
   ]
  },
  {
   "cell_type": "markdown",
   "id": "241e7c34",
   "metadata": {},
   "source": [
    "Insights:\n",
    "    *In the group bar chart, its evident that energy booster and immunity booster products are predominantly available.\n",
    "    *Interestingly, in the hormonal balance category, there are no products specifically designed for males.\n",
    "    *Notably, immunity boosters are not gender-categorized, making them suitable for both males and females."
   ]
  },
  {
   "cell_type": "code",
   "execution_count": 37,
   "id": "c5d2d868",
   "metadata": {},
   "outputs": [
    {
     "data": {
      "text/html": [
       "<div>\n",
       "<style scoped>\n",
       "    .dataframe tbody tr th:only-of-type {\n",
       "        vertical-align: middle;\n",
       "    }\n",
       "\n",
       "    .dataframe tbody tr th {\n",
       "        vertical-align: top;\n",
       "    }\n",
       "\n",
       "    .dataframe thead th {\n",
       "        text-align: right;\n",
       "    }\n",
       "</style>\n",
       "<table border=\"1\" class=\"dataframe\">\n",
       "  <thead>\n",
       "    <tr style=\"text-align: right;\">\n",
       "      <th>Gender</th>\n",
       "      <th>Female</th>\n",
       "      <th>Male</th>\n",
       "      <th>Others</th>\n",
       "      <th>Unisex</th>\n",
       "    </tr>\n",
       "    <tr>\n",
       "      <th>Category</th>\n",
       "      <th></th>\n",
       "      <th></th>\n",
       "      <th></th>\n",
       "      <th></th>\n",
       "    </tr>\n",
       "  </thead>\n",
       "  <tbody>\n",
       "    <tr>\n",
       "      <th>Energy-boosters</th>\n",
       "      <td>649.0</td>\n",
       "      <td>577.0</td>\n",
       "      <td>469.5</td>\n",
       "      <td>580.0</td>\n",
       "    </tr>\n",
       "    <tr>\n",
       "      <th>Healthy Heart</th>\n",
       "      <td>962.0</td>\n",
       "      <td>529.0</td>\n",
       "      <td>525.0</td>\n",
       "      <td>630.5</td>\n",
       "    </tr>\n",
       "    <tr>\n",
       "      <th>Hormonal-Balance</th>\n",
       "      <td>1000.0</td>\n",
       "      <td>NaN</td>\n",
       "      <td>599.0</td>\n",
       "      <td>938.0</td>\n",
       "    </tr>\n",
       "    <tr>\n",
       "      <th>Immunity-boosters</th>\n",
       "      <td>NaN</td>\n",
       "      <td>NaN</td>\n",
       "      <td>955.0</td>\n",
       "      <td>520.0</td>\n",
       "    </tr>\n",
       "    <tr>\n",
       "      <th>Restful Sleep</th>\n",
       "      <td>360.0</td>\n",
       "      <td>439.0</td>\n",
       "      <td>832.0</td>\n",
       "      <td>506.0</td>\n",
       "    </tr>\n",
       "    <tr>\n",
       "      <th>Stronger Bones</th>\n",
       "      <td>578.0</td>\n",
       "      <td>NaN</td>\n",
       "      <td>487.5</td>\n",
       "      <td>503.0</td>\n",
       "    </tr>\n",
       "  </tbody>\n",
       "</table>\n",
       "</div>"
      ],
      "text/plain": [
       "Gender             Female   Male  Others  Unisex\n",
       "Category                                        \n",
       "Energy-boosters     649.0  577.0   469.5   580.0\n",
       "Healthy Heart       962.0  529.0   525.0   630.5\n",
       "Hormonal-Balance   1000.0    NaN   599.0   938.0\n",
       "Immunity-boosters     NaN    NaN   955.0   520.0\n",
       "Restful Sleep       360.0  439.0   832.0   506.0\n",
       "Stronger Bones      578.0    NaN   487.5   503.0"
      ]
     },
     "execution_count": 37,
     "metadata": {},
     "output_type": "execute_result"
    }
   ],
   "source": [
    "pd.crosstab(columns=df['Gender'],index=df['Category'], values=df['Discounted Price'], aggfunc='median')"
   ]
  },
  {
   "cell_type": "markdown",
   "id": "76cf8b73",
   "metadata": {},
   "source": [
    "Insights:\n",
    "    *Energy-boosters & Healthy Heart:\n",
    "        The mean discounted price for Energy-boosters & Healthy Heart is highest for females, followed by the Unisex category. Males have the lowest mean discounted price.\n",
    "    *Hormonal-Balance:\n",
    "        Hormonal-Balance products have the highest mean discounted price for the Unknown category, followed by the Unisex category. Females have a comparatively lower mean discounted price, and the male category is not available (NaN).\n",
    "    *Immunity-boosters:\n",
    "        Immunity-boosters have the highest mean discounted price for the Unisex category, followed by the Unknown category. Gender-specific information is not available (NaN).\n",
    "    *Stronger Bones:\n",
    "        Stronger Bones products have the highest mean discounted price for females, followed by the Unisex category. \n",
    "    *hormonal balance and Stronger bones in the Males category are not available (NaN)."
   ]
  },
  {
   "cell_type": "code",
   "execution_count": 38,
   "id": "a7ebd19b",
   "metadata": {
    "scrolled": true
   },
   "outputs": [
    {
     "data": {
      "text/plain": [
       "Additional_Tags\n",
       "Rising Products          797\n",
       "FEATURED & BESTSELLER     19\n",
       "FEATURED                  17\n",
       "BESTSELLER                17\n",
       "Name: count, dtype: int64"
      ]
     },
     "execution_count": 38,
     "metadata": {},
     "output_type": "execute_result"
    }
   ],
   "source": [
    "df['Additional_Tags'].value_counts()"
   ]
  },
  {
   "cell_type": "code",
   "execution_count": 39,
   "id": "ffc053af",
   "metadata": {},
   "outputs": [
    {
     "data": {
      "text/plain": [
       "<Axes: title={'center': 'Number of products availabe in various formulations'}, xlabel='Formulation'>"
      ]
     },
     "execution_count": 39,
     "metadata": {},
     "output_type": "execute_result"
    },
    {
     "data": {
      "image/png": "[encoded data removed]",
      "text/plain": [
       "<Figure size 600x700 with 1 Axes>"
      ]
     },
     "metadata": {},
     "output_type": "display_data"
    }
   ],
   "source": [
    "df['Formulation'].value_counts().plot(kind = 'bar', \n",
    "                                   figsize = (6,7),\n",
    "                                   color = ['pink', 'violet', 'orange', 'red', 'black', 'cyan'],\n",
    "                                  title = 'Number of products availabe in various formulations')"
   ]
  },
  {
   "cell_type": "markdown",
   "id": "5b6353c7",
   "metadata": {},
   "source": [
    "Insights:\n",
    "    *This bar graph gives a quick overview of the range of formulations accessible on the website\n",
    "    *Capsules and tablet formulations are widely accessible."
   ]
  },
  {
   "cell_type": "code",
   "execution_count": 40,
   "id": "ae1a8fff",
   "metadata": {},
   "outputs": [
    {
     "data": {
      "text/plain": [
       "Text(0.5, 1.0, 'Category-wise Additional Tags')"
      ]
     },
     "execution_count": 40,
     "metadata": {},
     "output_type": "execute_result"
    },
    {
     "data": {
      "image/png": "[encoded data removed]",
      "text/plain": [
       "<Figure size 1000x600 with 1 Axes>"
      ]
     },
     "metadata": {},
     "output_type": "display_data"
    }
   ],
   "source": [
    "plt.figure(figsize=(10, 6))\n",
    "\n",
    "a = df[df['Additional_Tags']!='Rising Products']\n",
    "sns.countplot(x='Category', hue='Additional_Tags', data=a)\n",
    "\n",
    "plt.title(\"Category-wise Additional Tags\")"
   ]
  },
  {
   "cell_type": "markdown",
   "id": "72923dea",
   "metadata": {},
   "source": [
    "Insights:\n",
    "    *Energy booster products are prominently featured and are among the best sellers.\n",
    "    *Interestingly, while the healthy heart category lacks a dedicated \"featured\" tagline, it stands out as the highest seller.\n",
    "    *On average, considering both best sellers and featured items, immunity boosters emerge with the highest product count."
   ]
  },
  {
   "cell_type": "markdown",
   "id": "b659df99",
   "metadata": {},
   "source": [
    "### Budget friendly products"
   ]
  },
  {
   "cell_type": "code",
   "execution_count": 41,
   "id": "112f6802",
   "metadata": {
    "scrolled": true
   },
   "outputs": [
    {
     "data": {
      "text/html": [
       "<div>\n",
       "<style scoped>\n",
       "    .dataframe tbody tr th:only-of-type {\n",
       "        vertical-align: middle;\n",
       "    }\n",
       "\n",
       "    .dataframe tbody tr th {\n",
       "        vertical-align: top;\n",
       "    }\n",
       "\n",
       "    .dataframe thead th {\n",
       "        text-align: right;\n",
       "    }\n",
       "</style>\n",
       "<table border=\"1\" class=\"dataframe\">\n",
       "  <thead>\n",
       "    <tr style=\"text-align: right;\">\n",
       "      <th>Additional_Tags</th>\n",
       "      <th>BESTSELLER</th>\n",
       "      <th>FEATURED</th>\n",
       "      <th>FEATURED &amp; BESTSELLER</th>\n",
       "      <th>Rising Products</th>\n",
       "    </tr>\n",
       "    <tr>\n",
       "      <th>Category</th>\n",
       "      <th></th>\n",
       "      <th></th>\n",
       "      <th></th>\n",
       "      <th></th>\n",
       "    </tr>\n",
       "  </thead>\n",
       "  <tbody>\n",
       "    <tr>\n",
       "      <th>Energy-boosters</th>\n",
       "      <td>99.00</td>\n",
       "      <td>451.0</td>\n",
       "      <td>696.800000</td>\n",
       "      <td>727.338346</td>\n",
       "    </tr>\n",
       "    <tr>\n",
       "      <th>Healthy Heart</th>\n",
       "      <td>459.25</td>\n",
       "      <td>1076.0</td>\n",
       "      <td>651.500000</td>\n",
       "      <td>763.808333</td>\n",
       "    </tr>\n",
       "    <tr>\n",
       "      <th>Hormonal-Balance</th>\n",
       "      <td>1354.50</td>\n",
       "      <td>547.5</td>\n",
       "      <td>646.750000</td>\n",
       "      <td>1267.146341</td>\n",
       "    </tr>\n",
       "    <tr>\n",
       "      <th>Immunity-boosters</th>\n",
       "      <td>1009.00</td>\n",
       "      <td>554.0</td>\n",
       "      <td>639.000000</td>\n",
       "      <td>833.350746</td>\n",
       "    </tr>\n",
       "    <tr>\n",
       "      <th>Restful Sleep</th>\n",
       "      <td>407.00</td>\n",
       "      <td>503.0</td>\n",
       "      <td>503.750000</td>\n",
       "      <td>661.945946</td>\n",
       "    </tr>\n",
       "    <tr>\n",
       "      <th>Stronger Bones</th>\n",
       "      <td>199.00</td>\n",
       "      <td>412.0</td>\n",
       "      <td>556.333333</td>\n",
       "      <td>656.966942</td>\n",
       "    </tr>\n",
       "  </tbody>\n",
       "</table>\n",
       "</div>"
      ],
      "text/plain": [
       "Additional_Tags    BESTSELLER  FEATURED  FEATURED & BESTSELLER  \\\n",
       "Category                                                         \n",
       "Energy-boosters         99.00     451.0             696.800000   \n",
       "Healthy Heart          459.25    1076.0             651.500000   \n",
       "Hormonal-Balance      1354.50     547.5             646.750000   \n",
       "Immunity-boosters     1009.00     554.0             639.000000   \n",
       "Restful Sleep          407.00     503.0             503.750000   \n",
       "Stronger Bones         199.00     412.0             556.333333   \n",
       "\n",
       "Additional_Tags    Rising Products  \n",
       "Category                            \n",
       "Energy-boosters         727.338346  \n",
       "Healthy Heart           763.808333  \n",
       "Hormonal-Balance       1267.146341  \n",
       "Immunity-boosters       833.350746  \n",
       "Restful Sleep           661.945946  \n",
       "Stronger Bones          656.966942  "
      ]
     },
     "execution_count": 41,
     "metadata": {},
     "output_type": "execute_result"
    }
   ],
   "source": [
    "pd.crosstab(columns=df['Additional_Tags'],index=df['Category'], values=df['Discounted Price'], aggfunc='mean')"
   ]
  },
  {
   "cell_type": "code",
   "execution_count": 42,
   "id": "07d667a1",
   "metadata": {},
   "outputs": [
    {
     "data": {
      "text/html": [
       "<div>\n",
       "<style scoped>\n",
       "    .dataframe tbody tr th:only-of-type {\n",
       "        vertical-align: middle;\n",
       "    }\n",
       "\n",
       "    .dataframe tbody tr th {\n",
       "        vertical-align: top;\n",
       "    }\n",
       "\n",
       "    .dataframe thead th {\n",
       "        text-align: right;\n",
       "    }\n",
       "</style>\n",
       "<table border=\"1\" class=\"dataframe\">\n",
       "  <thead>\n",
       "    <tr style=\"text-align: right;\">\n",
       "      <th></th>\n",
       "      <th>Product_Title</th>\n",
       "      <th>Original Price</th>\n",
       "      <th>Discounted Price</th>\n",
       "      <th>Additional_Tags</th>\n",
       "      <th>Ratings</th>\n",
       "      <th>Gender</th>\n",
       "      <th>Category</th>\n",
       "      <th>Formulation</th>\n",
       "    </tr>\n",
       "  </thead>\n",
       "  <tbody>\n",
       "    <tr>\n",
       "      <th>0</th>\n",
       "      <td>Wellbeing Nutrition Daily Greens Wholefood Mul...</td>\n",
       "      <td>1180</td>\n",
       "      <td>590</td>\n",
       "      <td>FEATURED &amp; BESTSELLER</td>\n",
       "      <td>5</td>\n",
       "      <td>Unisex</td>\n",
       "      <td>Energy-boosters</td>\n",
       "      <td>Others</td>\n",
       "    </tr>\n",
       "    <tr>\n",
       "      <th>3</th>\n",
       "      <td>Oziva Daily Women's Multivitamin Tablets For E...</td>\n",
       "      <td>499</td>\n",
       "      <td>299</td>\n",
       "      <td>FEATURED &amp; BESTSELLER</td>\n",
       "      <td>4</td>\n",
       "      <td>Female</td>\n",
       "      <td>Energy-boosters</td>\n",
       "      <td>Others</td>\n",
       "    </tr>\n",
       "    <tr>\n",
       "      <th>9</th>\n",
       "      <td>Purna Gummies Multivitamin Strawberry Gummies ...</td>\n",
       "      <td>499</td>\n",
       "      <td>99</td>\n",
       "      <td>FEATURED &amp; BESTSELLER</td>\n",
       "      <td>5</td>\n",
       "      <td>Female</td>\n",
       "      <td>Energy-boosters</td>\n",
       "      <td>Others</td>\n",
       "    </tr>\n",
       "  </tbody>\n",
       "</table>\n",
       "</div>"
      ],
      "text/plain": [
       "                                       Product_Title  Original Price  \\\n",
       "0  Wellbeing Nutrition Daily Greens Wholefood Mul...            1180   \n",
       "3  Oziva Daily Women's Multivitamin Tablets For E...             499   \n",
       "9  Purna Gummies Multivitamin Strawberry Gummies ...             499   \n",
       "\n",
       "   Discounted Price        Additional_Tags  Ratings  Gender         Category  \\\n",
       "0               590  FEATURED & BESTSELLER        5  Unisex  Energy-boosters   \n",
       "3               299  FEATURED & BESTSELLER        4  Female  Energy-boosters   \n",
       "9                99  FEATURED & BESTSELLER        5  Female  Energy-boosters   \n",
       "\n",
       "  Formulation  \n",
       "0      Others  \n",
       "3      Others  \n",
       "9      Others  "
      ]
     },
     "execution_count": 42,
     "metadata": {},
     "output_type": "execute_result"
    }
   ],
   "source": [
    "df[(df['Category'] == 'Energy-boosters') & (df['Additional_Tags'] == 'FEATURED & BESTSELLER') & (df['Discounted Price'] <= 781)]"
   ]
  },
  {
   "cell_type": "code",
   "execution_count": 43,
   "id": "725644e2",
   "metadata": {},
   "outputs": [
    {
     "data": {
      "text/html": [
       "<div>\n",
       "<style scoped>\n",
       "    .dataframe tbody tr th:only-of-type {\n",
       "        vertical-align: middle;\n",
       "    }\n",
       "\n",
       "    .dataframe tbody tr th {\n",
       "        vertical-align: top;\n",
       "    }\n",
       "\n",
       "    .dataframe thead th {\n",
       "        text-align: right;\n",
       "    }\n",
       "</style>\n",
       "<table border=\"1\" class=\"dataframe\">\n",
       "  <thead>\n",
       "    <tr style=\"text-align: right;\">\n",
       "      <th></th>\n",
       "      <th>Product_Title</th>\n",
       "      <th>Original Price</th>\n",
       "      <th>Discounted Price</th>\n",
       "      <th>Additional_Tags</th>\n",
       "      <th>Ratings</th>\n",
       "      <th>Gender</th>\n",
       "      <th>Category</th>\n",
       "      <th>Formulation</th>\n",
       "    </tr>\n",
       "  </thead>\n",
       "  <tbody>\n",
       "    <tr>\n",
       "      <th>641</th>\n",
       "      <td>MOUNTAINOR Deep Sea Omega 3 Fish Oil 2500MG of...</td>\n",
       "      <td>1199</td>\n",
       "      <td>600</td>\n",
       "      <td>FEATURED &amp; BESTSELLER</td>\n",
       "      <td>5</td>\n",
       "      <td>Unisex</td>\n",
       "      <td>Healthy Heart</td>\n",
       "      <td>Others</td>\n",
       "    </tr>\n",
       "    <tr>\n",
       "      <th>642</th>\n",
       "      <td>Neuherbs Deep Sea Omega 3 Fish Oil 2500mg Caps...</td>\n",
       "      <td>1099</td>\n",
       "      <td>703</td>\n",
       "      <td>FEATURED &amp; BESTSELLER</td>\n",
       "      <td>5</td>\n",
       "      <td>Others</td>\n",
       "      <td>Healthy Heart</td>\n",
       "      <td>Others</td>\n",
       "    </tr>\n",
       "  </tbody>\n",
       "</table>\n",
       "</div>"
      ],
      "text/plain": [
       "                                         Product_Title  Original Price  \\\n",
       "641  MOUNTAINOR Deep Sea Omega 3 Fish Oil 2500MG of...            1199   \n",
       "642  Neuherbs Deep Sea Omega 3 Fish Oil 2500mg Caps...            1099   \n",
       "\n",
       "     Discounted Price        Additional_Tags  Ratings  Gender       Category  \\\n",
       "641               600  FEATURED & BESTSELLER        5  Unisex  Healthy Heart   \n",
       "642               703  FEATURED & BESTSELLER        5  Others  Healthy Heart   \n",
       "\n",
       "    Formulation  \n",
       "641      Others  \n",
       "642      Others  "
      ]
     },
     "execution_count": 43,
     "metadata": {},
     "output_type": "execute_result"
    }
   ],
   "source": [
    "df[(df['Category'] == 'Healthy Heart') & (df['Additional_Tags'] == 'FEATURED & BESTSELLER')& (df['Discounted Price'] <= 703)]"
   ]
  },
  {
   "cell_type": "code",
   "execution_count": 44,
   "id": "6c69ea8c",
   "metadata": {},
   "outputs": [
    {
     "data": {
      "text/html": [
       "<div>\n",
       "<style scoped>\n",
       "    .dataframe tbody tr th:only-of-type {\n",
       "        vertical-align: middle;\n",
       "    }\n",
       "\n",
       "    .dataframe tbody tr th {\n",
       "        vertical-align: top;\n",
       "    }\n",
       "\n",
       "    .dataframe thead th {\n",
       "        text-align: right;\n",
       "    }\n",
       "</style>\n",
       "<table border=\"1\" class=\"dataframe\">\n",
       "  <thead>\n",
       "    <tr style=\"text-align: right;\">\n",
       "      <th></th>\n",
       "      <th>Product_Title</th>\n",
       "      <th>Original Price</th>\n",
       "      <th>Discounted Price</th>\n",
       "      <th>Additional_Tags</th>\n",
       "      <th>Ratings</th>\n",
       "      <th>Gender</th>\n",
       "      <th>Category</th>\n",
       "      <th>Formulation</th>\n",
       "    </tr>\n",
       "  </thead>\n",
       "  <tbody>\n",
       "    <tr>\n",
       "      <th>645</th>\n",
       "      <td>HealthKart Hk Vitals Fish Oil Capsules 1000mg ...</td>\n",
       "      <td>1000</td>\n",
       "      <td>479</td>\n",
       "      <td>BESTSELLER</td>\n",
       "      <td>4</td>\n",
       "      <td>Unisex</td>\n",
       "      <td>Healthy Heart</td>\n",
       "      <td>Capsule</td>\n",
       "    </tr>\n",
       "    <tr>\n",
       "      <th>647</th>\n",
       "      <td>HealthKart Hk Vitals Omega 3, Fish Oil Supplem...</td>\n",
       "      <td>559</td>\n",
       "      <td>379</td>\n",
       "      <td>BESTSELLER</td>\n",
       "      <td>4</td>\n",
       "      <td>Unisex</td>\n",
       "      <td>Healthy Heart</td>\n",
       "      <td>Capsule</td>\n",
       "    </tr>\n",
       "    <tr>\n",
       "      <th>648</th>\n",
       "      <td>Healthkart Hk Vitals Fish Oil 1000Mg</td>\n",
       "      <td>399</td>\n",
       "      <td>270</td>\n",
       "      <td>BESTSELLER</td>\n",
       "      <td>5</td>\n",
       "      <td>Unisex</td>\n",
       "      <td>Healthy Heart</td>\n",
       "      <td>Capsule</td>\n",
       "    </tr>\n",
       "  </tbody>\n",
       "</table>\n",
       "</div>"
      ],
      "text/plain": [
       "                                         Product_Title  Original Price  \\\n",
       "645  HealthKart Hk Vitals Fish Oil Capsules 1000mg ...            1000   \n",
       "647  HealthKart Hk Vitals Omega 3, Fish Oil Supplem...             559   \n",
       "648               Healthkart Hk Vitals Fish Oil 1000Mg             399   \n",
       "\n",
       "     Discounted Price Additional_Tags  Ratings  Gender       Category  \\\n",
       "645               479      BESTSELLER        4  Unisex  Healthy Heart   \n",
       "647               379      BESTSELLER        4  Unisex  Healthy Heart   \n",
       "648               270      BESTSELLER        5  Unisex  Healthy Heart   \n",
       "\n",
       "    Formulation  \n",
       "645     Capsule  \n",
       "647     Capsule  \n",
       "648     Capsule  "
      ]
     },
     "execution_count": 44,
     "metadata": {},
     "output_type": "execute_result"
    }
   ],
   "source": [
    "df[(df['Category'] == 'Healthy Heart') & (df['Additional_Tags'] == 'BESTSELLER')& (df['Discounted Price'] <= 560)]"
   ]
  },
  {
   "cell_type": "code",
   "execution_count": 45,
   "id": "add271f4",
   "metadata": {},
   "outputs": [
    {
     "data": {
      "text/html": [
       "<div>\n",
       "<style scoped>\n",
       "    .dataframe tbody tr th:only-of-type {\n",
       "        vertical-align: middle;\n",
       "    }\n",
       "\n",
       "    .dataframe tbody tr th {\n",
       "        vertical-align: top;\n",
       "    }\n",
       "\n",
       "    .dataframe thead th {\n",
       "        text-align: right;\n",
       "    }\n",
       "</style>\n",
       "<table border=\"1\" class=\"dataframe\">\n",
       "  <thead>\n",
       "    <tr style=\"text-align: right;\">\n",
       "      <th></th>\n",
       "      <th>Product_Title</th>\n",
       "      <th>Original Price</th>\n",
       "      <th>Discounted Price</th>\n",
       "      <th>Additional_Tags</th>\n",
       "      <th>Ratings</th>\n",
       "      <th>Gender</th>\n",
       "      <th>Category</th>\n",
       "      <th>Formulation</th>\n",
       "    </tr>\n",
       "  </thead>\n",
       "  <tbody>\n",
       "    <tr>\n",
       "      <th>422</th>\n",
       "      <td>Be Bodywise PCOS Balance Capsules, Balances Ho...</td>\n",
       "      <td>599</td>\n",
       "      <td>569</td>\n",
       "      <td>FEATURED &amp; BESTSELLER</td>\n",
       "      <td>4</td>\n",
       "      <td>Others</td>\n",
       "      <td>Hormonal-Balance</td>\n",
       "      <td>Others</td>\n",
       "    </tr>\n",
       "    <tr>\n",
       "      <th>423</th>\n",
       "      <td>Power Gummies For That Time Of The Month - Per...</td>\n",
       "      <td>800</td>\n",
       "      <td>480</td>\n",
       "      <td>FEATURED &amp; BESTSELLER</td>\n",
       "      <td>5</td>\n",
       "      <td>Female</td>\n",
       "      <td>Hormonal-Balance</td>\n",
       "      <td>Others</td>\n",
       "    </tr>\n",
       "    <tr>\n",
       "      <th>424</th>\n",
       "      <td>Chicnutrix Cysterhood Inositol - PCOS Ovarian ...</td>\n",
       "      <td>1035</td>\n",
       "      <td>729</td>\n",
       "      <td>FEATURED &amp; BESTSELLER</td>\n",
       "      <td>3</td>\n",
       "      <td>Female</td>\n",
       "      <td>Hormonal-Balance</td>\n",
       "      <td>Powder</td>\n",
       "    </tr>\n",
       "  </tbody>\n",
       "</table>\n",
       "</div>"
      ],
      "text/plain": [
       "                                         Product_Title  Original Price  \\\n",
       "422  Be Bodywise PCOS Balance Capsules, Balances Ho...             599   \n",
       "423  Power Gummies For That Time Of The Month - Per...             800   \n",
       "424  Chicnutrix Cysterhood Inositol - PCOS Ovarian ...            1035   \n",
       "\n",
       "     Discounted Price        Additional_Tags  Ratings  Gender  \\\n",
       "422               569  FEATURED & BESTSELLER        4  Others   \n",
       "423               480  FEATURED & BESTSELLER        5  Female   \n",
       "424               729  FEATURED & BESTSELLER        3  Female   \n",
       "\n",
       "             Category Formulation  \n",
       "422  Hormonal-Balance      Others  \n",
       "423  Hormonal-Balance      Others  \n",
       "424  Hormonal-Balance      Powder  "
      ]
     },
     "execution_count": 45,
     "metadata": {},
     "output_type": "execute_result"
    }
   ],
   "source": [
    "df[(df['Category'] == 'Hormonal-Balance') & (df['Additional_Tags'] == 'FEATURED & BESTSELLER')& (df['Discounted Price'] <= 730)]"
   ]
  },
  {
   "cell_type": "code",
   "execution_count": 46,
   "id": "c858003a",
   "metadata": {},
   "outputs": [
    {
     "data": {
      "text/html": [
       "<div>\n",
       "<style scoped>\n",
       "    .dataframe tbody tr th:only-of-type {\n",
       "        vertical-align: middle;\n",
       "    }\n",
       "\n",
       "    .dataframe tbody tr th {\n",
       "        vertical-align: top;\n",
       "    }\n",
       "\n",
       "    .dataframe thead th {\n",
       "        text-align: right;\n",
       "    }\n",
       "</style>\n",
       "<table border=\"1\" class=\"dataframe\">\n",
       "  <thead>\n",
       "    <tr style=\"text-align: right;\">\n",
       "      <th></th>\n",
       "      <th>Product_Title</th>\n",
       "      <th>Original Price</th>\n",
       "      <th>Discounted Price</th>\n",
       "      <th>Additional_Tags</th>\n",
       "      <th>Ratings</th>\n",
       "      <th>Gender</th>\n",
       "      <th>Category</th>\n",
       "      <th>Formulation</th>\n",
       "    </tr>\n",
       "  </thead>\n",
       "  <tbody>\n",
       "    <tr>\n",
       "      <th>427</th>\n",
       "      <td>Be Bodywise PCOS Superfood- Manages Irregular ...</td>\n",
       "      <td>599</td>\n",
       "      <td>509</td>\n",
       "      <td>BESTSELLER</td>\n",
       "      <td>5</td>\n",
       "      <td>Others</td>\n",
       "      <td>Hormonal-Balance</td>\n",
       "      <td>Others</td>\n",
       "    </tr>\n",
       "  </tbody>\n",
       "</table>\n",
       "</div>"
      ],
      "text/plain": [
       "                                         Product_Title  Original Price  \\\n",
       "427  Be Bodywise PCOS Superfood- Manages Irregular ...             599   \n",
       "\n",
       "     Discounted Price Additional_Tags  Ratings  Gender          Category  \\\n",
       "427               509      BESTSELLER        5  Others  Hormonal-Balance   \n",
       "\n",
       "    Formulation  \n",
       "427      Others  "
      ]
     },
     "execution_count": 46,
     "metadata": {},
     "output_type": "execute_result"
    }
   ],
   "source": [
    "df[(df['Category'] == 'Hormonal-Balance') & (df['Additional_Tags'] == 'BESTSELLER')& (df['Discounted Price'] <= 1535)]"
   ]
  },
  {
   "cell_type": "code",
   "execution_count": 47,
   "id": "e3d13694",
   "metadata": {},
   "outputs": [
    {
     "data": {
      "text/html": [
       "<div>\n",
       "<style scoped>\n",
       "    .dataframe tbody tr th:only-of-type {\n",
       "        vertical-align: middle;\n",
       "    }\n",
       "\n",
       "    .dataframe tbody tr th {\n",
       "        vertical-align: top;\n",
       "    }\n",
       "\n",
       "    .dataframe thead th {\n",
       "        text-align: right;\n",
       "    }\n",
       "</style>\n",
       "<table border=\"1\" class=\"dataframe\">\n",
       "  <thead>\n",
       "    <tr style=\"text-align: right;\">\n",
       "      <th></th>\n",
       "      <th>Product_Title</th>\n",
       "      <th>Original Price</th>\n",
       "      <th>Discounted Price</th>\n",
       "      <th>Additional_Tags</th>\n",
       "      <th>Ratings</th>\n",
       "      <th>Gender</th>\n",
       "      <th>Category</th>\n",
       "      <th>Formulation</th>\n",
       "    </tr>\n",
       "  </thead>\n",
       "  <tbody>\n",
       "  </tbody>\n",
       "</table>\n",
       "</div>"
      ],
      "text/plain": [
       "Empty DataFrame\n",
       "Columns: [Product_Title, Original Price, Discounted Price, Additional_Tags, Ratings, Gender, Category, Formulation]\n",
       "Index: []"
      ]
     },
     "execution_count": 47,
     "metadata": {},
     "output_type": "execute_result"
    }
   ],
   "source": [
    "df[(df['Category'] == 'Immunity-boosters') & (df['Additional_Tags'] == 'FEATURED & BESTSELLER')& (df['Discounted Price'] <= 443)]"
   ]
  },
  {
   "cell_type": "code",
   "execution_count": 48,
   "id": "cbf2ba54",
   "metadata": {},
   "outputs": [
    {
     "data": {
      "text/html": [
       "<div>\n",
       "<style scoped>\n",
       "    .dataframe tbody tr th:only-of-type {\n",
       "        vertical-align: middle;\n",
       "    }\n",
       "\n",
       "    .dataframe tbody tr th {\n",
       "        vertical-align: top;\n",
       "    }\n",
       "\n",
       "    .dataframe thead th {\n",
       "        text-align: right;\n",
       "    }\n",
       "</style>\n",
       "<table border=\"1\" class=\"dataframe\">\n",
       "  <thead>\n",
       "    <tr style=\"text-align: right;\">\n",
       "      <th></th>\n",
       "      <th>Product_Title</th>\n",
       "      <th>Original Price</th>\n",
       "      <th>Discounted Price</th>\n",
       "      <th>Additional_Tags</th>\n",
       "      <th>Ratings</th>\n",
       "      <th>Gender</th>\n",
       "      <th>Category</th>\n",
       "      <th>Formulation</th>\n",
       "    </tr>\n",
       "  </thead>\n",
       "  <tbody>\n",
       "    <tr>\n",
       "      <th>282</th>\n",
       "      <td>Purna Gummies Vitamin C Orange Gummies with Vi...</td>\n",
       "      <td>499</td>\n",
       "      <td>99</td>\n",
       "      <td>BESTSELLER</td>\n",
       "      <td>5</td>\n",
       "      <td>Unisex</td>\n",
       "      <td>Immunity-boosters</td>\n",
       "      <td>Others</td>\n",
       "    </tr>\n",
       "    <tr>\n",
       "      <th>283</th>\n",
       "      <td>Mountainor Natural L Glutathione For Brighteni...</td>\n",
       "      <td>1199</td>\n",
       "      <td>599</td>\n",
       "      <td>BESTSELLER</td>\n",
       "      <td>4</td>\n",
       "      <td>Unisex</td>\n",
       "      <td>Immunity-boosters</td>\n",
       "      <td>Capsule</td>\n",
       "    </tr>\n",
       "    <tr>\n",
       "      <th>285</th>\n",
       "      <td>Purna Gummies Vitamin C Lemon Gummies with Vit...</td>\n",
       "      <td>499</td>\n",
       "      <td>99</td>\n",
       "      <td>BESTSELLER</td>\n",
       "      <td>5</td>\n",
       "      <td>Unisex</td>\n",
       "      <td>Immunity-boosters</td>\n",
       "      <td>Others</td>\n",
       "    </tr>\n",
       "  </tbody>\n",
       "</table>\n",
       "</div>"
      ],
      "text/plain": [
       "                                         Product_Title  Original Price  \\\n",
       "282  Purna Gummies Vitamin C Orange Gummies with Vi...             499   \n",
       "283  Mountainor Natural L Glutathione For Brighteni...            1199   \n",
       "285  Purna Gummies Vitamin C Lemon Gummies with Vit...             499   \n",
       "\n",
       "     Discounted Price Additional_Tags  Ratings  Gender           Category  \\\n",
       "282                99      BESTSELLER        5  Unisex  Immunity-boosters   \n",
       "283               599      BESTSELLER        4  Unisex  Immunity-boosters   \n",
       "285                99      BESTSELLER        5  Unisex  Immunity-boosters   \n",
       "\n",
       "    Formulation  \n",
       "282      Others  \n",
       "283     Capsule  \n",
       "285      Others  "
      ]
     },
     "execution_count": 48,
     "metadata": {},
     "output_type": "execute_result"
    }
   ],
   "source": [
    "df[(df['Category'] == 'Immunity-boosters') & (df['Additional_Tags'] == 'BESTSELLER')& (df['Discounted Price'] <= 1600)]"
   ]
  },
  {
   "cell_type": "code",
   "execution_count": 49,
   "id": "d6983b30",
   "metadata": {},
   "outputs": [
    {
     "data": {
      "text/html": [
       "<div>\n",
       "<style scoped>\n",
       "    .dataframe tbody tr th:only-of-type {\n",
       "        vertical-align: middle;\n",
       "    }\n",
       "\n",
       "    .dataframe tbody tr th {\n",
       "        vertical-align: top;\n",
       "    }\n",
       "\n",
       "    .dataframe thead th {\n",
       "        text-align: right;\n",
       "    }\n",
       "</style>\n",
       "<table border=\"1\" class=\"dataframe\">\n",
       "  <thead>\n",
       "    <tr style=\"text-align: right;\">\n",
       "      <th></th>\n",
       "      <th>Product_Title</th>\n",
       "      <th>Original Price</th>\n",
       "      <th>Discounted Price</th>\n",
       "      <th>Additional_Tags</th>\n",
       "      <th>Ratings</th>\n",
       "      <th>Gender</th>\n",
       "      <th>Category</th>\n",
       "      <th>Formulation</th>\n",
       "    </tr>\n",
       "  </thead>\n",
       "  <tbody>\n",
       "    <tr>\n",
       "      <th>770</th>\n",
       "      <td>Power Gummies Blessful Sleep Gummies</td>\n",
       "      <td>200</td>\n",
       "      <td>200</td>\n",
       "      <td>FEATURED &amp; BESTSELLER</td>\n",
       "      <td>5</td>\n",
       "      <td>Unisex</td>\n",
       "      <td>Restful Sleep</td>\n",
       "      <td>Capsule</td>\n",
       "    </tr>\n",
       "    <tr>\n",
       "      <th>771</th>\n",
       "      <td>Carbamide Forte Sleeping Pills Melatonin 10mg ...</td>\n",
       "      <td>920</td>\n",
       "      <td>599</td>\n",
       "      <td>FEATURED &amp; BESTSELLER</td>\n",
       "      <td>5</td>\n",
       "      <td>Unisex</td>\n",
       "      <td>Restful Sleep</td>\n",
       "      <td>Others</td>\n",
       "    </tr>\n",
       "    <tr>\n",
       "      <th>772</th>\n",
       "      <td>Wellbeing Nutrition Melts Restful Sleep, Melat...</td>\n",
       "      <td>649</td>\n",
       "      <td>567</td>\n",
       "      <td>FEATURED &amp; BESTSELLER</td>\n",
       "      <td>4</td>\n",
       "      <td>Unisex</td>\n",
       "      <td>Restful Sleep</td>\n",
       "      <td>Others</td>\n",
       "    </tr>\n",
       "  </tbody>\n",
       "</table>\n",
       "</div>"
      ],
      "text/plain": [
       "                                         Product_Title  Original Price  \\\n",
       "770               Power Gummies Blessful Sleep Gummies             200   \n",
       "771  Carbamide Forte Sleeping Pills Melatonin 10mg ...             920   \n",
       "772  Wellbeing Nutrition Melts Restful Sleep, Melat...             649   \n",
       "\n",
       "     Discounted Price        Additional_Tags  Ratings  Gender       Category  \\\n",
       "770               200  FEATURED & BESTSELLER        5  Unisex  Restful Sleep   \n",
       "771               599  FEATURED & BESTSELLER        5  Unisex  Restful Sleep   \n",
       "772               567  FEATURED & BESTSELLER        4  Unisex  Restful Sleep   \n",
       "\n",
       "    Formulation  \n",
       "770     Capsule  \n",
       "771      Others  \n",
       "772      Others  "
      ]
     },
     "execution_count": 49,
     "metadata": {},
     "output_type": "execute_result"
    }
   ],
   "source": [
    "df[(df['Category'] == 'Restful Sleep') & (df['Additional_Tags'] == 'FEATURED & BESTSELLER')& (df['Discounted Price'] <= 614)]"
   ]
  },
  {
   "cell_type": "code",
   "execution_count": 50,
   "id": "aacae705",
   "metadata": {},
   "outputs": [
    {
     "data": {
      "text/html": [
       "<div>\n",
       "<style scoped>\n",
       "    .dataframe tbody tr th:only-of-type {\n",
       "        vertical-align: middle;\n",
       "    }\n",
       "\n",
       "    .dataframe tbody tr th {\n",
       "        vertical-align: top;\n",
       "    }\n",
       "\n",
       "    .dataframe thead th {\n",
       "        text-align: right;\n",
       "    }\n",
       "</style>\n",
       "<table border=\"1\" class=\"dataframe\">\n",
       "  <thead>\n",
       "    <tr style=\"text-align: right;\">\n",
       "      <th></th>\n",
       "      <th>Product_Title</th>\n",
       "      <th>Original Price</th>\n",
       "      <th>Discounted Price</th>\n",
       "      <th>Additional_Tags</th>\n",
       "      <th>Ratings</th>\n",
       "      <th>Gender</th>\n",
       "      <th>Category</th>\n",
       "      <th>Formulation</th>\n",
       "    </tr>\n",
       "  </thead>\n",
       "  <tbody>\n",
       "    <tr>\n",
       "      <th>774</th>\n",
       "      <td>Purna Gummies Melatonin Wild Berry Flavour Gum...</td>\n",
       "      <td>499</td>\n",
       "      <td>99</td>\n",
       "      <td>BESTSELLER</td>\n",
       "      <td>5</td>\n",
       "      <td>Unisex</td>\n",
       "      <td>Restful Sleep</td>\n",
       "      <td>Others</td>\n",
       "    </tr>\n",
       "  </tbody>\n",
       "</table>\n",
       "</div>"
      ],
      "text/plain": [
       "                                         Product_Title  Original Price  \\\n",
       "774  Purna Gummies Melatonin Wild Berry Flavour Gum...             499   \n",
       "\n",
       "     Discounted Price Additional_Tags  Ratings  Gender       Category  \\\n",
       "774                99      BESTSELLER        5  Unisex  Restful Sleep   \n",
       "\n",
       "    Formulation  \n",
       "774      Others  "
      ]
     },
     "execution_count": 50,
     "metadata": {},
     "output_type": "execute_result"
    }
   ],
   "source": [
    "df[(df['Category'] == 'Restful Sleep') & (df['Additional_Tags'] == 'BESTSELLER')& (df['Discounted Price'] <= 150)]"
   ]
  },
  {
   "cell_type": "code",
   "execution_count": 51,
   "id": "c889418c",
   "metadata": {},
   "outputs": [
    {
     "data": {
      "text/html": [
       "<div>\n",
       "<style scoped>\n",
       "    .dataframe tbody tr th:only-of-type {\n",
       "        vertical-align: middle;\n",
       "    }\n",
       "\n",
       "    .dataframe tbody tr th {\n",
       "        vertical-align: top;\n",
       "    }\n",
       "\n",
       "    .dataframe thead th {\n",
       "        text-align: right;\n",
       "    }\n",
       "</style>\n",
       "<table border=\"1\" class=\"dataframe\">\n",
       "  <thead>\n",
       "    <tr style=\"text-align: right;\">\n",
       "      <th></th>\n",
       "      <th>Product_Title</th>\n",
       "      <th>Original Price</th>\n",
       "      <th>Discounted Price</th>\n",
       "      <th>Additional_Tags</th>\n",
       "      <th>Ratings</th>\n",
       "      <th>Gender</th>\n",
       "      <th>Category</th>\n",
       "      <th>Formulation</th>\n",
       "    </tr>\n",
       "  </thead>\n",
       "  <tbody>\n",
       "    <tr>\n",
       "      <th>510</th>\n",
       "      <td>Wellbeing Nutrition Melts Natural Vitamin D3 +...</td>\n",
       "      <td>649</td>\n",
       "      <td>567</td>\n",
       "      <td>FEATURED &amp; BESTSELLER</td>\n",
       "      <td>5</td>\n",
       "      <td>Unisex</td>\n",
       "      <td>Stronger Bones</td>\n",
       "      <td>Others</td>\n",
       "    </tr>\n",
       "    <tr>\n",
       "      <th>512</th>\n",
       "      <td>OZiva Bettr.CalD3+, Plant-Based Calcium &amp; Vita...</td>\n",
       "      <td>699</td>\n",
       "      <td>503</td>\n",
       "      <td>FEATURED &amp; BESTSELLER</td>\n",
       "      <td>5</td>\n",
       "      <td>Unisex</td>\n",
       "      <td>Stronger Bones</td>\n",
       "      <td>Others</td>\n",
       "    </tr>\n",
       "    <tr>\n",
       "      <th>514</th>\n",
       "      <td>Carbamide Forte Calcium with Magnesium- Zinc- ...</td>\n",
       "      <td>920</td>\n",
       "      <td>599</td>\n",
       "      <td>FEATURED &amp; BESTSELLER</td>\n",
       "      <td>5</td>\n",
       "      <td>Unisex</td>\n",
       "      <td>Stronger Bones</td>\n",
       "      <td>Tablet</td>\n",
       "    </tr>\n",
       "  </tbody>\n",
       "</table>\n",
       "</div>"
      ],
      "text/plain": [
       "                                         Product_Title  Original Price  \\\n",
       "510  Wellbeing Nutrition Melts Natural Vitamin D3 +...             649   \n",
       "512  OZiva Bettr.CalD3+, Plant-Based Calcium & Vita...             699   \n",
       "514  Carbamide Forte Calcium with Magnesium- Zinc- ...             920   \n",
       "\n",
       "     Discounted Price        Additional_Tags  Ratings  Gender        Category  \\\n",
       "510               567  FEATURED & BESTSELLER        5  Unisex  Stronger Bones   \n",
       "512               503  FEATURED & BESTSELLER        5  Unisex  Stronger Bones   \n",
       "514               599  FEATURED & BESTSELLER        5  Unisex  Stronger Bones   \n",
       "\n",
       "    Formulation  \n",
       "510      Others  \n",
       "512      Others  \n",
       "514      Tablet  "
      ]
     },
     "execution_count": 51,
     "metadata": {},
     "output_type": "execute_result"
    }
   ],
   "source": [
    "df[(df['Category'] == 'Stronger Bones') & (df['Additional_Tags'] == 'FEATURED & BESTSELLER')& (df['Discounted Price'] <= 616)]"
   ]
  },
  {
   "cell_type": "code",
   "execution_count": 52,
   "id": "3dc59b2e",
   "metadata": {},
   "outputs": [
    {
     "data": {
      "text/html": [
       "<div>\n",
       "<style scoped>\n",
       "    .dataframe tbody tr th:only-of-type {\n",
       "        vertical-align: middle;\n",
       "    }\n",
       "\n",
       "    .dataframe tbody tr th {\n",
       "        vertical-align: top;\n",
       "    }\n",
       "\n",
       "    .dataframe thead th {\n",
       "        text-align: right;\n",
       "    }\n",
       "</style>\n",
       "<table border=\"1\" class=\"dataframe\">\n",
       "  <thead>\n",
       "    <tr style=\"text-align: right;\">\n",
       "      <th></th>\n",
       "      <th>Product_Title</th>\n",
       "      <th>Original Price</th>\n",
       "      <th>Discounted Price</th>\n",
       "      <th>Additional_Tags</th>\n",
       "      <th>Ratings</th>\n",
       "      <th>Gender</th>\n",
       "      <th>Category</th>\n",
       "      <th>Formulation</th>\n",
       "    </tr>\n",
       "  </thead>\n",
       "  <tbody>\n",
       "    <tr>\n",
       "      <th>515</th>\n",
       "      <td>Purna Gummies Vitamin C Orange Gummies with Vi...</td>\n",
       "      <td>499</td>\n",
       "      <td>99</td>\n",
       "      <td>BESTSELLER</td>\n",
       "      <td>5</td>\n",
       "      <td>Unisex</td>\n",
       "      <td>Stronger Bones</td>\n",
       "      <td>Others</td>\n",
       "    </tr>\n",
       "    <tr>\n",
       "      <th>516</th>\n",
       "      <td>Purna Gummies Vitamin C Lemon Gummies with Vit...</td>\n",
       "      <td>499</td>\n",
       "      <td>99</td>\n",
       "      <td>BESTSELLER</td>\n",
       "      <td>5</td>\n",
       "      <td>Unisex</td>\n",
       "      <td>Stronger Bones</td>\n",
       "      <td>Others</td>\n",
       "    </tr>\n",
       "  </tbody>\n",
       "</table>\n",
       "</div>"
      ],
      "text/plain": [
       "                                         Product_Title  Original Price  \\\n",
       "515  Purna Gummies Vitamin C Orange Gummies with Vi...             499   \n",
       "516  Purna Gummies Vitamin C Lemon Gummies with Vit...             499   \n",
       "\n",
       "     Discounted Price Additional_Tags  Ratings  Gender        Category  \\\n",
       "515                99      BESTSELLER        5  Unisex  Stronger Bones   \n",
       "516                99      BESTSELLER        5  Unisex  Stronger Bones   \n",
       "\n",
       "    Formulation  \n",
       "515      Others  \n",
       "516      Others  "
      ]
     },
     "execution_count": 52,
     "metadata": {},
     "output_type": "execute_result"
    }
   ],
   "source": [
    "df[(df['Category'] == 'Stronger Bones') & (df['Additional_Tags'] == 'BESTSELLER')& (df['Discounted Price'] <= 100)]"
   ]
  },
  {
   "cell_type": "code",
   "execution_count": 53,
   "id": "3f3c36ce",
   "metadata": {},
   "outputs": [
    {
     "data": {
      "text/plain": [
       "Text(0.5, 1.0, 'Ratings for each Category')"
      ]
     },
     "execution_count": 53,
     "metadata": {},
     "output_type": "execute_result"
    },
    {
     "data": {
      "image/png": "[encoded data removed]",
      "text/plain": [
       "<Figure size 1000x600 with 1 Axes>"
      ]
     },
     "metadata": {},
     "output_type": "display_data"
    }
   ],
   "source": [
    "plt.figure(figsize=(10, 6))\n",
    "\n",
    "sns.countplot(x='Category', hue='Ratings', data=df)\n",
    "plt.title(\"Ratings for each Category\")"
   ]
  },
  {
   "cell_type": "markdown",
   "id": "86ed5425",
   "metadata": {},
   "source": [
    "Insights:\n",
    "    *The majority of products across all categories boast high ratings, predominantly receiving 4 and 5 stars.\n",
    "    *Notably, there is a scarcity of products with a 2-star rating, indicating a general trend towards favorable customer feedback"
   ]
  },
  {
   "cell_type": "code",
   "execution_count": 54,
   "id": "eb460e67",
   "metadata": {},
   "outputs": [],
   "source": [
    "odform = df.groupby(by='Formulation')[['Original Price', 'Discounted Price']].agg('mean')"
   ]
  },
  {
   "cell_type": "code",
   "execution_count": 55,
   "id": "b949d999",
   "metadata": {},
   "outputs": [],
   "source": [
    "dform =df.groupby(by='Formulation')['Discounted Price'].agg('mean')"
   ]
  },
  {
   "cell_type": "code",
   "execution_count": 56,
   "id": "58b6cd82",
   "metadata": {},
   "outputs": [],
   "source": [
    "ogform = df.groupby(by='Formulation')['Original Price'].agg('mean')"
   ]
  },
  {
   "cell_type": "code",
   "execution_count": 57,
   "id": "a78c997a",
   "metadata": {},
   "outputs": [
    {
     "data": {
      "text/plain": [
       "Formulation\n",
       "Capsule     750.936464\n",
       "Liquid      597.000000\n",
       "Oil         500.000000\n",
       "Others      897.650794\n",
       "Powder     1036.192308\n",
       "Tablet      682.702586\n",
       "Name: Discounted Price, dtype: float64"
      ]
     },
     "execution_count": 57,
     "metadata": {},
     "output_type": "execute_result"
    }
   ],
   "source": [
    "dform"
   ]
  },
  {
   "cell_type": "code",
   "execution_count": 58,
   "id": "31691cf4",
   "metadata": {},
   "outputs": [],
   "source": [
    "f = np.array(['Capsule', 'Liquid', 'Oil', 'Powder', 'Tablet', 'Unknown'])"
   ]
  },
  {
   "cell_type": "code",
   "execution_count": 59,
   "id": "ff9935c1",
   "metadata": {},
   "outputs": [
    {
     "data": {
      "image/png": "[encoded data removed]",
      "text/plain": [
       "<Figure size 640x480 with 1 Axes>"
      ]
     },
     "metadata": {},
     "output_type": "display_data"
    }
   ],
   "source": [
    "fig, ax = plt.subplots()\n",
    "ax.bar(f, ogform, label = 'Original Price')\n",
    "ax.bar(f, dform, bottom=ogform, label = 'Discounted Price')\n",
    "\n",
    "for bar in ax.patches:\n",
    "    ax.text(bar.get_x() + bar.get_width() / 2,\n",
    "          bar.get_height() / 2 + bar.get_y(),\n",
    "          round(bar.get_height()), ha = 'center',\n",
    "          color = 'w', weight = 'bold', size = 10)\n",
    "\n",
    "ax.legend()\n",
    "ax.set_ylabel('Avg Price')\n",
    "plt.show()"
   ]
  },
  {
   "cell_type": "markdown",
   "id": "6c113060",
   "metadata": {},
   "source": [
    "Insights :\n",
    "    Capsules boast the highest discount at 286 units.\n",
    "    Powders emerge as the most expensive category.\n",
    "    Oil products, with a discount of 93 units, are the most economical, exhibiting the least discount.\n"
   ]
  },
  {
   "cell_type": "code",
   "execution_count": 60,
   "id": "dcc6060e",
   "metadata": {},
   "outputs": [
    {
     "data": {
      "text/plain": [
       "Text(0.5, 1.0, 'Category-wise Additional Tags')"
      ]
     },
     "execution_count": 60,
     "metadata": {},
     "output_type": "execute_result"
    },
    {
     "data": {
      "image/png": "[encoded data removed]",
      "text/plain": [
       "<Figure size 1000x600 with 1 Axes>"
      ]
     },
     "metadata": {},
     "output_type": "display_data"
    }
   ],
   "source": [
    "plt.figure(figsize=(10, 6))\n",
    "\n",
    "sns.countplot(x='Category', hue='Formulation', data=df)\n",
    "plt.title(\"Category-wise Additional Tags\")\n"
   ]
  },
  {
   "cell_type": "markdown",
   "id": "131910ff",
   "metadata": {},
   "source": [
    "Insights:\n",
    "    *The majority of products across all categories are available in capsule formulation, indicating its widespread popularity.\n",
    "    *Notably, Stronger Bones exhibit the least variety, being predominantly offered in capsule and tablet forms.\n",
    "    *Liquid formulations are predominantly found in the Immunity Boosters category.\n",
    "    *Within the array of available formulations, powder formulations are predominantly concentrated in the Hormonal Balance category. \n",
    "    *Within the Hormonal Balance group, you will notice that powder is the preferred option"
   ]
  },
  {
   "cell_type": "code",
   "execution_count": null,
   "id": "f071d25c",
   "metadata": {},
   "outputs": [],
   "source": []
  }
 ],
 "metadata": {
  "kernelspec": {
   "display_name": "Python 3 (ipykernel)",
   "language": "python",
   "name": "python3"
  },
  "language_info": {
   "codemirror_mode": {
    "name": "ipython",
    "version": 3
   },
   "file_extension": ".py",
   "mimetype": "text/x-python",
   "name": "python",
   "nbconvert_exporter": "python",
   "pygments_lexer": "ipython3",
   "version": "3.10.13"
  }
 },
 "nbformat": 4,
 "nbformat_minor": 5
}
